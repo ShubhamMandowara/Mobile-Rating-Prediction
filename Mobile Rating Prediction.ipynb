{
 "cells": [
  {
   "cell_type": "markdown",
   "metadata": {},
   "source": [
    "### Mobile Rating Prediction\n"
   ]
  },
  {
   "cell_type": "code",
   "execution_count": 1,
   "metadata": {},
   "outputs": [],
   "source": [
    "import numpy as np\n",
    "import pandas as pd\n",
    "import matplotlib.pyplot as plt\n",
    "from sklearn.preprocessing import LabelEncoder, MinMaxScaler, StandardScaler\n",
    "from sklearn.model_selection import train_test_split, ParameterGrid\n",
    "from sklearn.metrics import accuracy_score, confusion_matrix, mean_squared_error, log_loss\n",
    "import operator\n",
    "import json\n",
    "from IPython import display\n",
    "import os\n",
    "import warnings\n",
    "from sklearn.datasets import make_blobs\n",
    "from tqdm import tqdm_notebook\n",
    "np.random.seed(0)\n",
    "warnings.filterwarnings('ignore')\n",
    "Threshold = 4"
   ]
  },
  {
   "cell_type": "code",
   "execution_count": 2,
   "metadata": {},
   "outputs": [],
   "source": [
    "train = pd.read_csv('./data/train.csv')"
   ]
  },
  {
   "cell_type": "code",
   "execution_count": 3,
   "metadata": {},
   "outputs": [
    {
     "name": "stdout",
     "output_type": "stream",
     "text": [
      "<class 'pandas.core.frame.DataFrame'>\n",
      "RangeIndex: 355 entries, 0 to 354\n",
      "Data columns (total 99 columns):\n",
      "PhoneId                                        355 non-null int64\n",
      "Also Known As                                  17 non-null object\n",
      "Applications                                   43 non-null object\n",
      "Architecture                                   273 non-null object\n",
      "Aspect Ratio                                   204 non-null object\n",
      "Audio Features                                 30 non-null object\n",
      "Audio Jack                                     343 non-null object\n",
      "Autofocus                                      333 non-null object\n",
      "Bezel-less display                             154 non-null object\n",
      "Bluetooth                                      351 non-null object\n",
      "Brand                                          354 non-null object\n",
      "Browser                                        23 non-null object\n",
      "Build Material                                 102 non-null object\n",
      "Camera Features                                348 non-null object\n",
      "Capacity                                       354 non-null object\n",
      "Chipset                                        329 non-null object\n",
      "Co-Processor                                   21 non-null object\n",
      "Colours                                        354 non-null object\n",
      "Custom UI                                      170 non-null object\n",
      "Display Colour                                 15 non-null object\n",
      "Display Type                                   354 non-null object\n",
      "Email                                          8 non-null object\n",
      "Expandable Memory                              353 non-null object\n",
      "FM Radio                                       281 non-null object\n",
      "Fingerprint Sensor                             335 non-null object\n",
      "Fingerprint Sensor Position                    219 non-null object\n",
      "Flash                                          342 non-null object\n",
      "GPS                                            333 non-null object\n",
      "Games                                          24 non-null object\n",
      "Graphics                                       325 non-null object\n",
      "HDMI                                           17 non-null object\n",
      "Heart Rate Monitor                             5 non-null object\n",
      "Height                                         340 non-null object\n",
      "IRIS Scanner                                   4 non-null object\n",
      "Image Resolution                               348 non-null object\n",
      "Internal Memory                                337 non-null object\n",
      "Java                                           2 non-null object\n",
      "Launch Date                                    331 non-null object\n",
      "Loudspeaker                                    354 non-null object\n",
      "Mobile High-Definition Link(MHL)               1 non-null object\n",
      "Model                                          354 non-null object\n",
      "Music                                          23 non-null object\n",
      "NFC                                            258 non-null object\n",
      "Network                                        354 non-null object\n",
      "Network Support                                354 non-null object\n",
      "Operating System                               334 non-null object\n",
      "Optical Image Stabilisation                    190 non-null object\n",
      "Other Facilities                               26 non-null object\n",
      "Other Sensors                                  331 non-null object\n",
      "Phone Book                                     26 non-null object\n",
      "Physical Aperture                              286 non-null object\n",
      "Pixel Density                                  354 non-null object\n",
      "Processor                                      336 non-null object\n",
      "Quick Charging                                 261 non-null object\n",
      "RAM                                            340 non-null object\n",
      "Rating Count                                   355 non-null int64\n",
      "Resolution                                     348 non-null object\n",
      "Review Count                                   355 non-null int64\n",
      "Ring Tone                                      26 non-null object\n",
      "Ruggedness                                     37 non-null object\n",
      "SAR Value                                      122 non-null object\n",
      "SIM 1                                          354 non-null object\n",
      "SIM 2                                          323 non-null object\n",
      "SIM 3                                          2 non-null object\n",
      "SIM Size                                       335 non-null object\n",
      "SIM Slot(s)                                    354 non-null object\n",
      "SMS                                            3 non-null object\n",
      "Screen Protection                              186 non-null object\n",
      "Screen Resolution                              354 non-null object\n",
      "Screen Size                                    354 non-null object\n",
      "Screen to Body Ratio (calculated)              340 non-null object\n",
      "Screen to Body Ratio (claimed by the brand)    34 non-null object\n",
      "Sensor                                         178 non-null object\n",
      "Settings                                       299 non-null object\n",
      "Shooting Modes                                 312 non-null object\n",
      "Software Based Aperture                        1 non-null object\n",
      "Special Features                               12 non-null object\n",
      "Standby time                                   109 non-null object\n",
      "Stylus                                         1 non-null object\n",
      "TalkTime                                       164 non-null object\n",
      "Thickness                                      340 non-null object\n",
      "Touch Screen                                   334 non-null object\n",
      "Type                                           353 non-null object\n",
      "USB Connectivity                               337 non-null object\n",
      "USB OTG Support                                235 non-null object\n",
      "USB Type-C                                     77 non-null object\n",
      "User Available Storage                         149 non-null object\n",
      "User Replaceable                               337 non-null object\n",
      "Video Player                                   14 non-null object\n",
      "Video Recording                                268 non-null object\n",
      "Video Recording Features                       14 non-null object\n",
      "VoLTE                                          273 non-null object\n",
      "Waterproof                                     60 non-null object\n",
      "Weight                                         325 non-null object\n",
      "Wi-Fi                                          334 non-null object\n",
      "Wi-Fi Features                                 329 non-null object\n",
      "Width                                          340 non-null object\n",
      "Wireless Charging                              25 non-null object\n",
      "Rating                                         355 non-null float64\n",
      "dtypes: float64(1), int64(3), object(95)\n",
      "memory usage: 274.6+ KB\n"
     ]
    }
   ],
   "source": [
    "train.info()"
   ]
  },
  {
   "cell_type": "code",
   "execution_count": 4,
   "metadata": {},
   "outputs": [],
   "source": [
    "test = pd.read_csv('./data/test.csv')"
   ]
  },
  {
   "cell_type": "markdown",
   "metadata": {},
   "source": [
    "## train shape and test shape "
   ]
  },
  {
   "cell_type": "code",
   "execution_count": 5,
   "metadata": {},
   "outputs": [
    {
     "name": "stdout",
     "output_type": "stream",
     "text": [
      "no of rows : 355\n",
      "no of features :99\n",
      "no of rows : 119\n",
      "no of feature 98\n"
     ]
    }
   ],
   "source": [
    "print(f'no of rows : {train.shape[0]}')\n",
    "print(f'no of features :{train.shape[1]}')\n",
    "print(f'no of rows : {test.shape[0]}')\n",
    "print(f'no of feature {test.shape[1]}')"
   ]
  },
  {
   "cell_type": "code",
   "execution_count": 6,
   "metadata": {},
   "outputs": [],
   "source": [
    "def data_clean(data):\n",
    "    \n",
    "    # Let's first remove all missing value features\n",
    "    columns_to_remove = ['Also Known As','Applications','Audio Features','Bezel-less display'\n",
    "                         'Browser','Build Material','Co-Processor','Browser'\n",
    "                         'Display Colour','Mobile High-Definition Link(MHL)',\n",
    "                         'Music', 'Email','Fingerprint Sensor Position',\n",
    "                         'Games','HDMI','Heart Rate Monitor','IRIS Scanner', \n",
    "                         'Optical Image Stabilisation','Other Facilities',\n",
    "                         'Phone Book','Physical Aperture','Quick Charging',\n",
    "                         'Ring Tone','Ruggedness','SAR Value','SIM 3','SMS',\n",
    "                         'Screen Protection','Screen to Body Ratio (claimed by the brand)',\n",
    "                         'Sensor','Software Based Aperture', 'Special Features',\n",
    "                         'Standby time','Stylus','TalkTime', 'USB Type-C',\n",
    "                         'Video Player', 'Video Recording Features','Waterproof',\n",
    "                         'Wireless Charging','USB OTG Support', 'Video Recording','Java']\n",
    "\n",
    "    columns_to_retain = list(set(data.columns)-set(columns_to_remove))\n",
    "    data = data[columns_to_retain]\n",
    "\n",
    "    #Features having very low variance \n",
    "    columns_to_remove = ['Architecture','Audio Jack','GPS','Loudspeaker','Network','Network Support','VoLTE']\n",
    "    columns_to_retain = list(set(data.columns)-set(columns_to_remove))\n",
    "    data = data[columns_to_retain]\n",
    "\n",
    "    # Multivalued:\n",
    "    columns_to_remove = ['Architecture','Launch Date','Audio Jack','GPS','Loudspeaker','Network','Network Support','VoLTE', 'Custom UI']\n",
    "    columns_to_retain = list(set(data.columns)-set(columns_to_remove))\n",
    "    data = data[columns_to_retain]\n",
    "\n",
    "    # Not much important\n",
    "    columns_to_remove = ['Bluetooth', 'Settings','Wi-Fi','Wi-Fi Features']\n",
    "    columns_to_retain = list(set(data.columns)-set(columns_to_remove))\n",
    "    data = data[columns_to_retain]\n",
    "    \n",
    "    return data"
   ]
  },
  {
   "cell_type": "markdown",
   "metadata": {},
   "source": [
    "## Removing  features\n"
   ]
  },
  {
   "cell_type": "code",
   "execution_count": 7,
   "metadata": {},
   "outputs": [],
   "source": [
    "train = data_clean(train)\n",
    "test = data_clean(test)"
   ]
  },
  {
   "cell_type": "markdown",
   "metadata": {},
   "source": [
    "### removing all data rows where we have missing more than  alimit features"
   ]
  },
  {
   "cell_type": "code",
   "execution_count": 8,
   "metadata": {},
   "outputs": [],
   "source": [
    "train = train[(train.isnull().sum(axis =1) <= 15)]"
   ]
  },
  {
   "cell_type": "code",
   "execution_count": 9,
   "metadata": {},
   "outputs": [
    {
     "name": "stdout",
     "output_type": "stream",
     "text": [
      "No of rows:341\n",
      "No of feature:47\n",
      "No of rows:119\n",
      "No of feature:46\n"
     ]
    }
   ],
   "source": [
    "print(f'No of rows:{train.shape[0]}')\n",
    "print(f'No of feature:{train.shape[1]}')\n",
    "print(f'No of rows:{test.shape[0]}')\n",
    "print(f'No of feature:{test.shape[1]}')"
   ]
  },
  {
   "cell_type": "code",
   "execution_count": 10,
   "metadata": {},
   "outputs": [
    {
     "name": "stdout",
     "output_type": "stream",
     "text": [
      "<class 'pandas.core.frame.DataFrame'>\n",
      "Int64Index: 341 entries, 0 to 354\n",
      "Data columns (total 47 columns):\n",
      "Type                                 340 non-null object\n",
      "Internal Memory                      334 non-null object\n",
      "Bezel-less display                   154 non-null object\n",
      "Brand                                341 non-null object\n",
      "Expandable Memory                    341 non-null object\n",
      "Weight                               317 non-null object\n",
      "Screen Size                          341 non-null object\n",
      "Graphics                             325 non-null object\n",
      "Resolution                           341 non-null object\n",
      "SIM 2                                312 non-null object\n",
      "Other Sensors                        331 non-null object\n",
      "Review Count                         341 non-null int64\n",
      "User Available Storage               149 non-null object\n",
      "Display Type                         341 non-null object\n",
      "Browser                              13 non-null object\n",
      "Capacity                             341 non-null object\n",
      "Aspect Ratio                         204 non-null object\n",
      "Fingerprint Sensor                   335 non-null object\n",
      "Chipset                              329 non-null object\n",
      "PhoneId                              341 non-null int64\n",
      "Operating System                     334 non-null object\n",
      "Rating                               341 non-null float64\n",
      "Rating Count                         341 non-null int64\n",
      "Colours                              341 non-null object\n",
      "Flash                                338 non-null object\n",
      "Image Resolution                     341 non-null object\n",
      "Display Colour                       7 non-null object\n",
      "Pixel Density                        341 non-null object\n",
      "Autofocus                            333 non-null object\n",
      "Touch Screen                         334 non-null object\n",
      "Screen to Body Ratio (calculated)    330 non-null object\n",
      "User Replaceable                     326 non-null object\n",
      "USB Connectivity                     332 non-null object\n",
      "SIM 1                                341 non-null object\n",
      "NFC                                  258 non-null object\n",
      "Processor                            335 non-null object\n",
      "Model                                341 non-null object\n",
      "Camera Features                      341 non-null object\n",
      "Thickness                            330 non-null object\n",
      "Height                               330 non-null object\n",
      "Width                                330 non-null object\n",
      "SIM Size                             327 non-null object\n",
      "SIM Slot(s)                          341 non-null object\n",
      "Screen Resolution                    341 non-null object\n",
      "FM Radio                             269 non-null object\n",
      "RAM                                  339 non-null object\n",
      "Shooting Modes                       312 non-null object\n",
      "dtypes: float64(1), int64(3), object(43)\n",
      "memory usage: 127.9+ KB\n"
     ]
    }
   ],
   "source": [
    "train.info()"
   ]
  },
  {
   "cell_type": "markdown",
   "metadata": {},
   "source": [
    "## Filling Missing Values"
   ]
  },
  {
   "cell_type": "code",
   "execution_count": 11,
   "metadata": {},
   "outputs": [],
   "source": [
    "def for_integer(test):\n",
    "    try:\n",
    "        test = test.strip()\n",
    "        return int(test.split(' ')[0])\n",
    "    except IOError:\n",
    "           pass\n",
    "    except ValueError:\n",
    "        pass\n",
    "    except:\n",
    "        pass\n",
    "\n",
    "def for_string(test):\n",
    "    try:\n",
    "        test = test.strip()\n",
    "        return (test.split(' ')[0])\n",
    "    except IOError:\n",
    "        pass\n",
    "    except ValueError:\n",
    "        pass\n",
    "    except:\n",
    "        pass\n",
    "\n",
    "def for_float(test):\n",
    "    try:\n",
    "        test = test.strip()\n",
    "        return float(test.split(' ')[0])\n",
    "    except IOError:\n",
    "        pass\n",
    "    except ValueError:\n",
    "        pass\n",
    "    except:\n",
    "        pass\n",
    "def find_freq(test):\n",
    "    try:\n",
    "        test = test.strip()\n",
    "        test = test.split(' ')\n",
    "        if test[2][0] == '(':\n",
    "            return float(test[2][1:])\n",
    "        return float(test[2])\n",
    "    except IOError:\n",
    "        pass\n",
    "    except ValueError:\n",
    "        pass\n",
    "    except:\n",
    "        pass\n",
    "\n",
    "    \n",
    "def for_Internal_Memory(test):\n",
    "    try:\n",
    "        test = test.strip()\n",
    "        test = test.split(' ')\n",
    "        if test[1] == 'GB':\n",
    "            return int(test[0])\n",
    "        if test[1] == 'MB':\n",
    "#             print(\"here\")\n",
    "            return (int(test[0]) * 0.001)\n",
    "    except IOError:\n",
    "           pass\n",
    "    except ValueError:\n",
    "        pass\n",
    "    except:\n",
    "        pass\n",
    "    \n",
    "def find_freq(test):\n",
    "    try:\n",
    "        test = test.strip()\n",
    "        test = test.split(' ')\n",
    "        if test[2][0] == '(':\n",
    "            return float(test[2][1:])\n",
    "        return float(test[2])\n",
    "    except IOError:\n",
    "        pass\n",
    "    except ValueError:\n",
    "        pass\n",
    "    except:\n",
    "        pass\n"
   ]
  },
  {
   "cell_type": "code",
   "execution_count": 12,
   "metadata": {},
   "outputs": [],
   "source": [
    "def data_clean_2(x):\n",
    "    data = x.copy()\n",
    "    \n",
    "    data['Capacity'] = data['Capacity'].apply(for_integer)\n",
    "\n",
    "    data['Height'] = data['Height'].apply(for_float)\n",
    "    data['Height'] = data['Height'].fillna(data['Height'].mean())\n",
    "\n",
    "    data['Internal Memory'] = data['Internal Memory'].apply(for_Internal_Memory)\n",
    "\n",
    "    data['Pixel Density'] = data['Pixel Density'].apply(for_integer)\n",
    "\n",
    "    data['Internal Memory'] = data['Internal Memory'].fillna(data['Internal Memory'].median())\n",
    "    data['Internal Memory'] = data['Internal Memory'].astype(int)\n",
    "\n",
    "    data['RAM'] = data['RAM'].apply(for_integer)\n",
    "    data['RAM'] = data['RAM'].fillna(data['RAM'].median())\n",
    "    data['RAM'] = data['RAM'].astype(int)\n",
    "\n",
    "    data['Resolution'] = data['Resolution'].apply(for_integer)\n",
    "    data['Resolution'] = data['Resolution'].fillna(data['Resolution'].median())\n",
    "    data['Resolution'] = data['Resolution'].astype(int)\n",
    "\n",
    "    data['Screen Size'] = data['Screen Size'].apply(for_float)\n",
    "\n",
    "    data['Thickness'] = data['Thickness'].apply(for_float)\n",
    "    data['Thickness'] = data['Thickness'].fillna(data['Thickness'].mean())\n",
    "    data['Thickness'] = data['Thickness'].round(2)\n",
    "\n",
    "    data['Type'] = data['Type'].fillna('Li-Polymer')\n",
    "\n",
    "    data['Screen to Body Ratio (calculated)'] = data['Screen to Body Ratio (calculated)'].apply(for_float)\n",
    "    data['Screen to Body Ratio (calculated)'] = data['Screen to Body Ratio (calculated)'].fillna(data['Screen to Body Ratio (calculated)'].mean())\n",
    "    data['Screen to Body Ratio (calculated)'] = data['Screen to Body Ratio (calculated)'].round(2)\n",
    "\n",
    "    data['Width'] = data['Width'].apply(for_float)\n",
    "    data['Width'] = data['Width'].fillna(data['Width'].mean())\n",
    "    data['Width'] = data['Width'].round(2)\n",
    "\n",
    "    data['Flash'][data['Flash'].isna() == True] = \"Other\"\n",
    "\n",
    "    data['User Replaceable'][data['User Replaceable'].isna() == True] = \"Other\"\n",
    "\n",
    "    data['Num_cores'] = data['Processor'].apply(for_string)\n",
    "    data['Num_cores'][data['Num_cores'].isna() == True] = \"Other\"\n",
    "\n",
    "\n",
    "    data['Processor_frequency'] = data['Processor'].apply(find_freq)\n",
    "    #because there is one entry with 208MHz values, to convert it to GHz\n",
    "    data['Processor_frequency'][data['Processor_frequency'] > 200] = 0.208\n",
    "    data['Processor_frequency'] = data['Processor_frequency'].fillna(data['Processor_frequency'].mean())\n",
    "    data['Processor_frequency'] = data['Processor_frequency'].round(2)\n",
    "\n",
    "    data['Camera Features'][data['Camera Features'].isna() == True] = \"Other\"\n",
    "\n",
    "    #simplifyig Operating System to os_name for simplicity\n",
    "    data['os_name'] = data['Operating System'].apply(for_string)\n",
    "    data['os_name'][data['os_name'].isna() == True] = \"Other\"\n",
    "\n",
    "    data['Sim1'] = data['SIM 1'].apply(for_string)\n",
    "\n",
    "    data['SIM Size'][data['SIM Size'].isna() == True] = \"Other\"\n",
    "\n",
    "    data['Image Resolution'][data['Image Resolution'].isna() == True] = \"Other\"\n",
    "\n",
    "    data['Fingerprint Sensor'][data['Fingerprint Sensor'].isna() == True] = \"Other\"\n",
    "\n",
    "    data['Expandable Memory'][data['Expandable Memory'].isna() == True] = \"No\"\n",
    "\n",
    "    data['Weight'] = data['Weight'].apply(for_integer)\n",
    "    data['Weight'] = data['Weight'].fillna(data['Weight'].mean())\n",
    "    data['Weight'] = data['Weight'].astype(int)\n",
    "\n",
    "    data['SIM 2'] = data['SIM 2'].apply(for_string)\n",
    "    data['SIM 2'][data['SIM 2'].isna() == True] = \"Other\"\n",
    "    \n",
    "    return data"
   ]
  },
  {
   "cell_type": "code",
   "execution_count": 13,
   "metadata": {},
   "outputs": [
    {
     "name": "stdout",
     "output_type": "stream",
     "text": [
      "Number of data points in train: 341\n",
      "Number of features in train: 51\n",
      "Number of data points in test: 119\n",
      "Number of features in test: 50\n"
     ]
    }
   ],
   "source": [
    "train = data_clean_2(train)\n",
    "test = data_clean_2(test)\n",
    "\n",
    "# check the number of features and data points in train\n",
    "print(\"Number of data points in train: %d\" % train.shape[0])\n",
    "print(\"Number of features in train: %d\" % train.shape[1])\n",
    "\n",
    "# check the number of features and data points in test\n",
    "print(\"Number of data points in test: %d\" % test.shape[0])\n",
    "print(\"Number of features in test: %d\" % test.shape[1])"
   ]
  },
  {
   "cell_type": "code",
   "execution_count": 14,
   "metadata": {},
   "outputs": [
    {
     "name": "stdout",
     "output_type": "stream",
     "text": [
      "<class 'pandas.core.frame.DataFrame'>\n",
      "Int64Index: 341 entries, 0 to 354\n",
      "Data columns (total 51 columns):\n",
      "Type                                 341 non-null object\n",
      "Internal Memory                      341 non-null int32\n",
      "Bezel-less display                   154 non-null object\n",
      "Brand                                341 non-null object\n",
      "Expandable Memory                    341 non-null object\n",
      "Weight                               341 non-null int32\n",
      "Screen Size                          341 non-null float64\n",
      "Graphics                             325 non-null object\n",
      "Resolution                           341 non-null int32\n",
      "SIM 2                                341 non-null object\n",
      "Other Sensors                        331 non-null object\n",
      "Review Count                         341 non-null int64\n",
      "User Available Storage               149 non-null object\n",
      "Display Type                         341 non-null object\n",
      "Browser                              13 non-null object\n",
      "Capacity                             341 non-null int64\n",
      "Aspect Ratio                         204 non-null object\n",
      "Fingerprint Sensor                   341 non-null object\n",
      "Chipset                              329 non-null object\n",
      "PhoneId                              341 non-null int64\n",
      "Operating System                     334 non-null object\n",
      "Rating                               341 non-null float64\n",
      "Rating Count                         341 non-null int64\n",
      "Colours                              341 non-null object\n",
      "Flash                                341 non-null object\n",
      "Image Resolution                     341 non-null object\n",
      "Display Colour                       7 non-null object\n",
      "Pixel Density                        341 non-null int64\n",
      "Autofocus                            333 non-null object\n",
      "Touch Screen                         334 non-null object\n",
      "Screen to Body Ratio (calculated)    341 non-null float64\n",
      "User Replaceable                     341 non-null object\n",
      "USB Connectivity                     332 non-null object\n",
      "SIM 1                                341 non-null object\n",
      "NFC                                  258 non-null object\n",
      "Processor                            335 non-null object\n",
      "Model                                341 non-null object\n",
      "Camera Features                      341 non-null object\n",
      "Thickness                            341 non-null float64\n",
      "Height                               341 non-null float64\n",
      "Width                                341 non-null float64\n",
      "SIM Size                             341 non-null object\n",
      "SIM Slot(s)                          341 non-null object\n",
      "Screen Resolution                    341 non-null object\n",
      "FM Radio                             269 non-null object\n",
      "RAM                                  341 non-null int32\n",
      "Shooting Modes                       312 non-null object\n",
      "Num_cores                            341 non-null object\n",
      "Processor_frequency                  341 non-null float64\n",
      "os_name                              341 non-null object\n",
      "Sim1                                 341 non-null object\n",
      "dtypes: float64(7), int32(4), int64(5), object(35)\n",
      "memory usage: 133.2+ KB\n"
     ]
    }
   ],
   "source": [
    "train.info()"
   ]
  },
  {
   "cell_type": "markdown",
   "metadata": {},
   "source": [
    "### Not very important"
   ]
  },
  {
   "cell_type": "code",
   "execution_count": 15,
   "metadata": {},
   "outputs": [],
   "source": [
    "def data_clean_3(x):\n",
    "    \n",
    "    data = x.copy()\n",
    "\n",
    "    columns_to_remove = ['User Available Storage','SIM Size','Chipset','Processor','Autofocus','Aspect Ratio','Touch Screen',\n",
    "                        'Bezel-less display','Operating System','SIM 1','USB Connectivity','Other Sensors','Graphics','FM Radio',\n",
    "                        'NFC','Shooting Modes','Browser','Display Colour' ]\n",
    "\n",
    "    columns_to_retain = list(set(data.columns)-set(columns_to_remove))\n",
    "    data = data[columns_to_retain]\n",
    "\n",
    "\n",
    "    columns_to_remove = [ 'Screen Resolution','User Replaceable','Camera Features',\n",
    "                        'Thickness', 'Display Type']\n",
    "\n",
    "    columns_to_retain = list(set(data.columns)-set(columns_to_remove))\n",
    "    data = data[columns_to_retain]\n",
    "\n",
    "\n",
    "    columns_to_remove = ['Fingerprint Sensor', 'Flash', 'Rating Count', 'Review Count','Image Resolution','Type','Expandable Memory',\\\n",
    "                        'Colours','Width','Model']\n",
    "    columns_to_retain = list(set(data.columns)-set(columns_to_remove))\n",
    "    data = data[columns_to_retain]\n",
    "\n",
    "    return data"
   ]
  },
  {
   "cell_type": "code",
   "execution_count": 16,
   "metadata": {},
   "outputs": [
    {
     "name": "stdout",
     "output_type": "stream",
     "text": [
      "Number of data points in train: 341\n",
      "Number of features in train: 18\n",
      "Number of data points in test: 119\n",
      "Number of features in test: 17\n"
     ]
    }
   ],
   "source": [
    "train = data_clean_3(train)\n",
    "test = data_clean_3(test)\n",
    "\n",
    "# check the number of features and data points in train\n",
    "print(\"Number of data points in train: %d\" % train.shape[0])\n",
    "print(\"Number of features in train: %d\" % train.shape[1])\n",
    "\n",
    "# check the number of features and data points in test\n",
    "print(\"Number of data points in test: %d\" % test.shape[0])\n",
    "print(\"Number of features in test: %d\" % test.shape[1])"
   ]
  },
  {
   "cell_type": "code",
   "execution_count": 17,
   "metadata": {},
   "outputs": [
    {
     "name": "stdout",
     "output_type": "stream",
     "text": [
      "<class 'pandas.core.frame.DataFrame'>\n",
      "Int64Index: 341 entries, 0 to 354\n",
      "Data columns (total 18 columns):\n",
      "Sim1                                 341 non-null object\n",
      "Internal Memory                      341 non-null int32\n",
      "Processor_frequency                  341 non-null float64\n",
      "Capacity                             341 non-null int64\n",
      "Pixel Density                        341 non-null int64\n",
      "Brand                                341 non-null object\n",
      "Weight                               341 non-null int32\n",
      "Screen Size                          341 non-null float64\n",
      "Height                               341 non-null float64\n",
      "SIM Slot(s)                          341 non-null object\n",
      "Num_cores                            341 non-null object\n",
      "PhoneId                              341 non-null int64\n",
      "Screen to Body Ratio (calculated)    341 non-null float64\n",
      "SIM 2                                341 non-null object\n",
      "Resolution                           341 non-null int32\n",
      "Rating                               341 non-null float64\n",
      "RAM                                  341 non-null int32\n",
      "os_name                              341 non-null object\n",
      "dtypes: float64(5), int32(4), int64(3), object(6)\n",
      "memory usage: 45.3+ KB\n"
     ]
    }
   ],
   "source": [
    "train.info()"
   ]
  },
  {
   "cell_type": "code",
   "execution_count": 18,
   "metadata": {},
   "outputs": [
    {
     "name": "stdout",
     "output_type": "stream",
     "text": [
      "(460, 17)\n",
      "Index(['PhoneId', 'Sim1', 'Internal Memory', 'Processor_frequency', 'Capacity',\n",
      "       'Pixel Density', 'Brand', 'Weight', 'Screen Size', 'Height',\n",
      "       'SIM Slot(s)', 'Num_cores', 'Screen to Body Ratio (calculated)',\n",
      "       'SIM 2', 'Resolution', 'RAM', 'os_name'],\n",
      "      dtype='object')\n",
      "(460, 87)\n",
      "Index(['PhoneId', 'Internal Memory', 'Processor_frequency', 'Capacity',\n",
      "       'Pixel Density', 'Weight', 'Screen Size', 'Height',\n",
      "       'Screen to Body Ratio (calculated)', 'Resolution', 'RAM', 'Sim1_2G',\n",
      "       'Sim1_3G', 'Sim1_4G', 'Brand_10.or', 'Brand_Apple', 'Brand_Asus',\n",
      "       'Brand_Billion', 'Brand_Blackberry', 'Brand_Comio', 'Brand_Coolpad',\n",
      "       'Brand_Do', 'Brand_Gionee', 'Brand_Google', 'Brand_HTC', 'Brand_Honor',\n",
      "       'Brand_Huawei', 'Brand_InFocus', 'Brand_Infinix', 'Brand_Intex',\n",
      "       'Brand_Itel', 'Brand_Jivi', 'Brand_Karbonn', 'Brand_LG', 'Brand_Lava',\n",
      "       'Brand_LeEco', 'Brand_Lenovo', 'Brand_Lephone', 'Brand_Lyf',\n",
      "       'Brand_Meizu', 'Brand_Micromax', 'Brand_Mobiistar', 'Brand_Moto',\n",
      "       'Brand_Motorola', 'Brand_Nokia', 'Brand_Nubia', 'Brand_OPPO',\n",
      "       'Brand_OnePlus', 'Brand_Oppo', 'Brand_Panasonic', 'Brand_Razer',\n",
      "       'Brand_Realme', 'Brand_Reliance', 'Brand_Samsung', 'Brand_Sony',\n",
      "       'Brand_Spice', 'Brand_Tecno', 'Brand_Ulefone', 'Brand_VOTO',\n",
      "       'Brand_Vivo', 'Brand_Xiaomi', 'Brand_Xiaomi Poco', 'Brand_Yu',\n",
      "       'Brand_iVooMi', 'SIM Slot(s)_Dual SIM, GSM+CDMA',\n",
      "       'SIM Slot(s)_Dual SIM, GSM+GSM',\n",
      "       'SIM Slot(s)_Dual SIM, GSM+GSM, Dual VoLTE',\n",
      "       'SIM Slot(s)_Single SIM, GSM', 'Num_cores_312', 'Num_cores_Deca',\n",
      "       'Num_cores_Dual', 'Num_cores_Hexa', 'Num_cores_Octa', 'Num_cores_Other',\n",
      "       'Num_cores_Quad', 'Num_cores_Tru-Octa', 'SIM 2_2G', 'SIM 2_3G',\n",
      "       'SIM 2_4G', 'SIM 2_Other', 'os_name_Android', 'os_name_Blackberry',\n",
      "       'os_name_KAI', 'os_name_Nokia', 'os_name_Other', 'os_name_Tizen',\n",
      "       'os_name_iOS'],\n",
      "      dtype='object')\n"
     ]
    }
   ],
   "source": [
    "# one hot encoding\n",
    "\n",
    "train_ids = train['PhoneId']\n",
    "test_ids = test['PhoneId']\n",
    "\n",
    "cols = list(test.columns)\n",
    "cols.remove('PhoneId')\n",
    "cols.insert(0, 'PhoneId')\n",
    "\n",
    "combined = pd.concat([train.drop('Rating', axis=1)[cols], test[cols]])\n",
    "print(combined.shape)\n",
    "print(combined.columns)\n",
    "\n",
    "combined = pd.get_dummies(combined)\n",
    "print(combined.shape)\n",
    "print(combined.columns)\n",
    "\n",
    "train_new = combined[combined['PhoneId'].isin(train_ids)]\n",
    "test_new = combined[combined['PhoneId'].isin(test_ids)]"
   ]
  },
  {
   "cell_type": "code",
   "execution_count": 19,
   "metadata": {},
   "outputs": [],
   "source": [
    "train_new = train_new.merge(train[['PhoneId', 'Rating']], on='PhoneId')"
   ]
  },
  {
   "cell_type": "code",
   "execution_count": 20,
   "metadata": {},
   "outputs": [
    {
     "name": "stdout",
     "output_type": "stream",
     "text": [
      "Number of data points in train: 341\n",
      "Number of features in train: 88\n",
      "Number of data points in test: 119\n",
      "Number of features in test: 87\n"
     ]
    }
   ],
   "source": [
    "# check the number of features and data points in train\n",
    "print(\"Number of data points in train: %d\" % train_new.shape[0])\n",
    "print(\"Number of features in train: %d\" % train_new.shape[1])\n",
    "\n",
    "# check the number of features and data points in test\n",
    "print(\"Number of data points in test: %d\" % test_new.shape[0])\n",
    "print(\"Number of features in test: %d\" % test_new.shape[1])"
   ]
  },
  {
   "cell_type": "code",
   "execution_count": 21,
   "metadata": {},
   "outputs": [
    {
     "data": {
      "text/html": [
       "<div>\n",
       "<style scoped>\n",
       "    .dataframe tbody tr th:only-of-type {\n",
       "        vertical-align: middle;\n",
       "    }\n",
       "\n",
       "    .dataframe tbody tr th {\n",
       "        vertical-align: top;\n",
       "    }\n",
       "\n",
       "    .dataframe thead th {\n",
       "        text-align: right;\n",
       "    }\n",
       "</style>\n",
       "<table border=\"1\" class=\"dataframe\">\n",
       "  <thead>\n",
       "    <tr style=\"text-align: right;\">\n",
       "      <th></th>\n",
       "      <th>PhoneId</th>\n",
       "      <th>Internal Memory</th>\n",
       "      <th>Processor_frequency</th>\n",
       "      <th>Capacity</th>\n",
       "      <th>Pixel Density</th>\n",
       "      <th>Weight</th>\n",
       "      <th>Screen Size</th>\n",
       "      <th>Height</th>\n",
       "      <th>Screen to Body Ratio (calculated)</th>\n",
       "      <th>Resolution</th>\n",
       "      <th>...</th>\n",
       "      <th>SIM 2_4G</th>\n",
       "      <th>SIM 2_Other</th>\n",
       "      <th>os_name_Android</th>\n",
       "      <th>os_name_Blackberry</th>\n",
       "      <th>os_name_KAI</th>\n",
       "      <th>os_name_Nokia</th>\n",
       "      <th>os_name_Other</th>\n",
       "      <th>os_name_Tizen</th>\n",
       "      <th>os_name_iOS</th>\n",
       "      <th>Rating</th>\n",
       "    </tr>\n",
       "  </thead>\n",
       "  <tbody>\n",
       "    <tr>\n",
       "      <th>0</th>\n",
       "      <td>0</td>\n",
       "      <td>64</td>\n",
       "      <td>1.8</td>\n",
       "      <td>4000</td>\n",
       "      <td>403</td>\n",
       "      <td>182</td>\n",
       "      <td>6.26</td>\n",
       "      <td>157.9</td>\n",
       "      <td>80.68</td>\n",
       "      <td>20</td>\n",
       "      <td>...</td>\n",
       "      <td>1</td>\n",
       "      <td>0</td>\n",
       "      <td>1</td>\n",
       "      <td>0</td>\n",
       "      <td>0</td>\n",
       "      <td>0</td>\n",
       "      <td>0</td>\n",
       "      <td>0</td>\n",
       "      <td>0</td>\n",
       "      <td>4.5</td>\n",
       "    </tr>\n",
       "    <tr>\n",
       "      <th>1</th>\n",
       "      <td>1</td>\n",
       "      <td>32</td>\n",
       "      <td>1.8</td>\n",
       "      <td>4230</td>\n",
       "      <td>271</td>\n",
       "      <td>168</td>\n",
       "      <td>6.20</td>\n",
       "      <td>156.2</td>\n",
       "      <td>80.85</td>\n",
       "      <td>8</td>\n",
       "      <td>...</td>\n",
       "      <td>1</td>\n",
       "      <td>0</td>\n",
       "      <td>1</td>\n",
       "      <td>0</td>\n",
       "      <td>0</td>\n",
       "      <td>0</td>\n",
       "      <td>0</td>\n",
       "      <td>0</td>\n",
       "      <td>0</td>\n",
       "      <td>4.5</td>\n",
       "    </tr>\n",
       "    <tr>\n",
       "      <th>2</th>\n",
       "      <td>2</td>\n",
       "      <td>32</td>\n",
       "      <td>2.1</td>\n",
       "      <td>3500</td>\n",
       "      <td>409</td>\n",
       "      <td>168</td>\n",
       "      <td>6.30</td>\n",
       "      <td>157.0</td>\n",
       "      <td>83.68</td>\n",
       "      <td>25</td>\n",
       "      <td>...</td>\n",
       "      <td>1</td>\n",
       "      <td>0</td>\n",
       "      <td>1</td>\n",
       "      <td>0</td>\n",
       "      <td>0</td>\n",
       "      <td>0</td>\n",
       "      <td>0</td>\n",
       "      <td>0</td>\n",
       "      <td>0</td>\n",
       "      <td>4.4</td>\n",
       "    </tr>\n",
       "    <tr>\n",
       "      <th>3</th>\n",
       "      <td>4</td>\n",
       "      <td>64</td>\n",
       "      <td>2.2</td>\n",
       "      <td>3300</td>\n",
       "      <td>411</td>\n",
       "      <td>169</td>\n",
       "      <td>6.00</td>\n",
       "      <td>159.8</td>\n",
       "      <td>74.78</td>\n",
       "      <td>24</td>\n",
       "      <td>...</td>\n",
       "      <td>1</td>\n",
       "      <td>0</td>\n",
       "      <td>1</td>\n",
       "      <td>0</td>\n",
       "      <td>0</td>\n",
       "      <td>0</td>\n",
       "      <td>0</td>\n",
       "      <td>0</td>\n",
       "      <td>0</td>\n",
       "      <td>4.3</td>\n",
       "    </tr>\n",
       "    <tr>\n",
       "      <th>4</th>\n",
       "      <td>5</td>\n",
       "      <td>64</td>\n",
       "      <td>2.2</td>\n",
       "      <td>3750</td>\n",
       "      <td>396</td>\n",
       "      <td>175</td>\n",
       "      <td>6.50</td>\n",
       "      <td>160.4</td>\n",
       "      <td>84.23</td>\n",
       "      <td>16</td>\n",
       "      <td>...</td>\n",
       "      <td>1</td>\n",
       "      <td>0</td>\n",
       "      <td>1</td>\n",
       "      <td>0</td>\n",
       "      <td>0</td>\n",
       "      <td>0</td>\n",
       "      <td>0</td>\n",
       "      <td>0</td>\n",
       "      <td>0</td>\n",
       "      <td>4.4</td>\n",
       "    </tr>\n",
       "  </tbody>\n",
       "</table>\n",
       "<p>5 rows × 88 columns</p>\n",
       "</div>"
      ],
      "text/plain": [
       "   PhoneId  Internal Memory  Processor_frequency  Capacity  Pixel Density  \\\n",
       "0        0               64                  1.8      4000            403   \n",
       "1        1               32                  1.8      4230            271   \n",
       "2        2               32                  2.1      3500            409   \n",
       "3        4               64                  2.2      3300            411   \n",
       "4        5               64                  2.2      3750            396   \n",
       "\n",
       "   Weight  Screen Size  Height  Screen to Body Ratio (calculated)  Resolution  \\\n",
       "0     182         6.26   157.9                              80.68          20   \n",
       "1     168         6.20   156.2                              80.85           8   \n",
       "2     168         6.30   157.0                              83.68          25   \n",
       "3     169         6.00   159.8                              74.78          24   \n",
       "4     175         6.50   160.4                              84.23          16   \n",
       "\n",
       "    ...    SIM 2_4G  SIM 2_Other  os_name_Android  os_name_Blackberry  \\\n",
       "0   ...           1            0                1                   0   \n",
       "1   ...           1            0                1                   0   \n",
       "2   ...           1            0                1                   0   \n",
       "3   ...           1            0                1                   0   \n",
       "4   ...           1            0                1                   0   \n",
       "\n",
       "   os_name_KAI  os_name_Nokia  os_name_Other  os_name_Tizen  os_name_iOS  \\\n",
       "0            0              0              0              0            0   \n",
       "1            0              0              0              0            0   \n",
       "2            0              0              0              0            0   \n",
       "3            0              0              0              0            0   \n",
       "4            0              0              0              0            0   \n",
       "\n",
       "   Rating  \n",
       "0     4.5  \n",
       "1     4.5  \n",
       "2     4.4  \n",
       "3     4.3  \n",
       "4     4.4  \n",
       "\n",
       "[5 rows x 88 columns]"
      ]
     },
     "execution_count": 21,
     "metadata": {},
     "output_type": "execute_result"
    }
   ],
   "source": [
    "train_new.head()"
   ]
  },
  {
   "cell_type": "code",
   "execution_count": 22,
   "metadata": {},
   "outputs": [
    {
     "data": {
      "text/html": [
       "<div>\n",
       "<style scoped>\n",
       "    .dataframe tbody tr th:only-of-type {\n",
       "        vertical-align: middle;\n",
       "    }\n",
       "\n",
       "    .dataframe tbody tr th {\n",
       "        vertical-align: top;\n",
       "    }\n",
       "\n",
       "    .dataframe thead th {\n",
       "        text-align: right;\n",
       "    }\n",
       "</style>\n",
       "<table border=\"1\" class=\"dataframe\">\n",
       "  <thead>\n",
       "    <tr style=\"text-align: right;\">\n",
       "      <th></th>\n",
       "      <th>PhoneId</th>\n",
       "      <th>Internal Memory</th>\n",
       "      <th>Processor_frequency</th>\n",
       "      <th>Capacity</th>\n",
       "      <th>Pixel Density</th>\n",
       "      <th>Weight</th>\n",
       "      <th>Screen Size</th>\n",
       "      <th>Height</th>\n",
       "      <th>Screen to Body Ratio (calculated)</th>\n",
       "      <th>Resolution</th>\n",
       "      <th>...</th>\n",
       "      <th>SIM 2_3G</th>\n",
       "      <th>SIM 2_4G</th>\n",
       "      <th>SIM 2_Other</th>\n",
       "      <th>os_name_Android</th>\n",
       "      <th>os_name_Blackberry</th>\n",
       "      <th>os_name_KAI</th>\n",
       "      <th>os_name_Nokia</th>\n",
       "      <th>os_name_Other</th>\n",
       "      <th>os_name_Tizen</th>\n",
       "      <th>os_name_iOS</th>\n",
       "    </tr>\n",
       "  </thead>\n",
       "  <tbody>\n",
       "    <tr>\n",
       "      <th>0</th>\n",
       "      <td>3</td>\n",
       "      <td>16</td>\n",
       "      <td>1.8</td>\n",
       "      <td>4230</td>\n",
       "      <td>271</td>\n",
       "      <td>168</td>\n",
       "      <td>6.20</td>\n",
       "      <td>156.2</td>\n",
       "      <td>80.85</td>\n",
       "      <td>5</td>\n",
       "      <td>...</td>\n",
       "      <td>0</td>\n",
       "      <td>1</td>\n",
       "      <td>0</td>\n",
       "      <td>1</td>\n",
       "      <td>0</td>\n",
       "      <td>0</td>\n",
       "      <td>0</td>\n",
       "      <td>0</td>\n",
       "      <td>0</td>\n",
       "      <td>0</td>\n",
       "    </tr>\n",
       "    <tr>\n",
       "      <th>1</th>\n",
       "      <td>11</td>\n",
       "      <td>64</td>\n",
       "      <td>1.8</td>\n",
       "      <td>5000</td>\n",
       "      <td>402</td>\n",
       "      <td>205</td>\n",
       "      <td>6.20</td>\n",
       "      <td>156.0</td>\n",
       "      <td>81.60</td>\n",
       "      <td>12</td>\n",
       "      <td>...</td>\n",
       "      <td>0</td>\n",
       "      <td>1</td>\n",
       "      <td>0</td>\n",
       "      <td>1</td>\n",
       "      <td>0</td>\n",
       "      <td>0</td>\n",
       "      <td>0</td>\n",
       "      <td>0</td>\n",
       "      <td>0</td>\n",
       "      <td>0</td>\n",
       "    </tr>\n",
       "    <tr>\n",
       "      <th>2</th>\n",
       "      <td>13</td>\n",
       "      <td>64</td>\n",
       "      <td>2.0</td>\n",
       "      <td>3500</td>\n",
       "      <td>409</td>\n",
       "      <td>169</td>\n",
       "      <td>6.30</td>\n",
       "      <td>156.7</td>\n",
       "      <td>83.84</td>\n",
       "      <td>25</td>\n",
       "      <td>...</td>\n",
       "      <td>0</td>\n",
       "      <td>1</td>\n",
       "      <td>0</td>\n",
       "      <td>1</td>\n",
       "      <td>0</td>\n",
       "      <td>0</td>\n",
       "      <td>0</td>\n",
       "      <td>0</td>\n",
       "      <td>0</td>\n",
       "      <td>0</td>\n",
       "    </tr>\n",
       "    <tr>\n",
       "      <th>3</th>\n",
       "      <td>16</td>\n",
       "      <td>64</td>\n",
       "      <td>2.0</td>\n",
       "      <td>3500</td>\n",
       "      <td>409</td>\n",
       "      <td>169</td>\n",
       "      <td>6.30</td>\n",
       "      <td>156.7</td>\n",
       "      <td>83.84</td>\n",
       "      <td>16</td>\n",
       "      <td>...</td>\n",
       "      <td>0</td>\n",
       "      <td>1</td>\n",
       "      <td>0</td>\n",
       "      <td>1</td>\n",
       "      <td>0</td>\n",
       "      <td>0</td>\n",
       "      <td>0</td>\n",
       "      <td>0</td>\n",
       "      <td>0</td>\n",
       "      <td>0</td>\n",
       "    </tr>\n",
       "    <tr>\n",
       "      <th>4</th>\n",
       "      <td>19</td>\n",
       "      <td>64</td>\n",
       "      <td>1.8</td>\n",
       "      <td>4000</td>\n",
       "      <td>403</td>\n",
       "      <td>181</td>\n",
       "      <td>5.99</td>\n",
       "      <td>158.6</td>\n",
       "      <td>77.43</td>\n",
       "      <td>20</td>\n",
       "      <td>...</td>\n",
       "      <td>0</td>\n",
       "      <td>1</td>\n",
       "      <td>0</td>\n",
       "      <td>1</td>\n",
       "      <td>0</td>\n",
       "      <td>0</td>\n",
       "      <td>0</td>\n",
       "      <td>0</td>\n",
       "      <td>0</td>\n",
       "      <td>0</td>\n",
       "    </tr>\n",
       "  </tbody>\n",
       "</table>\n",
       "<p>5 rows × 87 columns</p>\n",
       "</div>"
      ],
      "text/plain": [
       "   PhoneId  Internal Memory  Processor_frequency  Capacity  Pixel Density  \\\n",
       "0        3               16                  1.8      4230            271   \n",
       "1       11               64                  1.8      5000            402   \n",
       "2       13               64                  2.0      3500            409   \n",
       "3       16               64                  2.0      3500            409   \n",
       "4       19               64                  1.8      4000            403   \n",
       "\n",
       "   Weight  Screen Size  Height  Screen to Body Ratio (calculated)  Resolution  \\\n",
       "0     168         6.20   156.2                              80.85           5   \n",
       "1     205         6.20   156.0                              81.60          12   \n",
       "2     169         6.30   156.7                              83.84          25   \n",
       "3     169         6.30   156.7                              83.84          16   \n",
       "4     181         5.99   158.6                              77.43          20   \n",
       "\n",
       "      ...       SIM 2_3G  SIM 2_4G  SIM 2_Other  os_name_Android  \\\n",
       "0     ...              0         1            0                1   \n",
       "1     ...              0         1            0                1   \n",
       "2     ...              0         1            0                1   \n",
       "3     ...              0         1            0                1   \n",
       "4     ...              0         1            0                1   \n",
       "\n",
       "   os_name_Blackberry  os_name_KAI  os_name_Nokia  os_name_Other  \\\n",
       "0                   0            0              0              0   \n",
       "1                   0            0              0              0   \n",
       "2                   0            0              0              0   \n",
       "3                   0            0              0              0   \n",
       "4                   0            0              0              0   \n",
       "\n",
       "   os_name_Tizen  os_name_iOS  \n",
       "0              0            0  \n",
       "1              0            0  \n",
       "2              0            0  \n",
       "3              0            0  \n",
       "4              0            0  \n",
       "\n",
       "[5 rows x 87 columns]"
      ]
     },
     "execution_count": 22,
     "metadata": {},
     "output_type": "execute_result"
    }
   ],
   "source": [
    "test_new.head()"
   ]
  },
  {
   "cell_type": "code",
   "execution_count": 23,
   "metadata": {},
   "outputs": [
    {
     "name": "stdout",
     "output_type": "stream",
     "text": [
      "<class 'pandas.core.frame.DataFrame'>\n",
      "Int64Index: 341 entries, 0 to 340\n",
      "Data columns (total 88 columns):\n",
      "PhoneId                                      341 non-null int64\n",
      "Internal Memory                              341 non-null int32\n",
      "Processor_frequency                          341 non-null float64\n",
      "Capacity                                     341 non-null int64\n",
      "Pixel Density                                341 non-null int64\n",
      "Weight                                       341 non-null int32\n",
      "Screen Size                                  341 non-null float64\n",
      "Height                                       341 non-null float64\n",
      "Screen to Body Ratio (calculated)            341 non-null float64\n",
      "Resolution                                   341 non-null int32\n",
      "RAM                                          341 non-null int32\n",
      "Sim1_2G                                      341 non-null uint8\n",
      "Sim1_3G                                      341 non-null uint8\n",
      "Sim1_4G                                      341 non-null uint8\n",
      "Brand_10.or                                  341 non-null uint8\n",
      "Brand_Apple                                  341 non-null uint8\n",
      "Brand_Asus                                   341 non-null uint8\n",
      "Brand_Billion                                341 non-null uint8\n",
      "Brand_Blackberry                             341 non-null uint8\n",
      "Brand_Comio                                  341 non-null uint8\n",
      "Brand_Coolpad                                341 non-null uint8\n",
      "Brand_Do                                     341 non-null uint8\n",
      "Brand_Gionee                                 341 non-null uint8\n",
      "Brand_Google                                 341 non-null uint8\n",
      "Brand_HTC                                    341 non-null uint8\n",
      "Brand_Honor                                  341 non-null uint8\n",
      "Brand_Huawei                                 341 non-null uint8\n",
      "Brand_InFocus                                341 non-null uint8\n",
      "Brand_Infinix                                341 non-null uint8\n",
      "Brand_Intex                                  341 non-null uint8\n",
      "Brand_Itel                                   341 non-null uint8\n",
      "Brand_Jivi                                   341 non-null uint8\n",
      "Brand_Karbonn                                341 non-null uint8\n",
      "Brand_LG                                     341 non-null uint8\n",
      "Brand_Lava                                   341 non-null uint8\n",
      "Brand_LeEco                                  341 non-null uint8\n",
      "Brand_Lenovo                                 341 non-null uint8\n",
      "Brand_Lephone                                341 non-null uint8\n",
      "Brand_Lyf                                    341 non-null uint8\n",
      "Brand_Meizu                                  341 non-null uint8\n",
      "Brand_Micromax                               341 non-null uint8\n",
      "Brand_Mobiistar                              341 non-null uint8\n",
      "Brand_Moto                                   341 non-null uint8\n",
      "Brand_Motorola                               341 non-null uint8\n",
      "Brand_Nokia                                  341 non-null uint8\n",
      "Brand_Nubia                                  341 non-null uint8\n",
      "Brand_OPPO                                   341 non-null uint8\n",
      "Brand_OnePlus                                341 non-null uint8\n",
      "Brand_Oppo                                   341 non-null uint8\n",
      "Brand_Panasonic                              341 non-null uint8\n",
      "Brand_Razer                                  341 non-null uint8\n",
      "Brand_Realme                                 341 non-null uint8\n",
      "Brand_Reliance                               341 non-null uint8\n",
      "Brand_Samsung                                341 non-null uint8\n",
      "Brand_Sony                                   341 non-null uint8\n",
      "Brand_Spice                                  341 non-null uint8\n",
      "Brand_Tecno                                  341 non-null uint8\n",
      "Brand_Ulefone                                341 non-null uint8\n",
      "Brand_VOTO                                   341 non-null uint8\n",
      "Brand_Vivo                                   341 non-null uint8\n",
      "Brand_Xiaomi                                 341 non-null uint8\n",
      "Brand_Xiaomi Poco                            341 non-null uint8\n",
      "Brand_Yu                                     341 non-null uint8\n",
      "Brand_iVooMi                                 341 non-null uint8\n",
      "SIM Slot(s)_Dual SIM, GSM+CDMA               341 non-null uint8\n",
      "SIM Slot(s)_Dual SIM, GSM+GSM                341 non-null uint8\n",
      "SIM Slot(s)_Dual SIM, GSM+GSM, Dual VoLTE    341 non-null uint8\n",
      "SIM Slot(s)_Single SIM, GSM                  341 non-null uint8\n",
      "Num_cores_312                                341 non-null uint8\n",
      "Num_cores_Deca                               341 non-null uint8\n",
      "Num_cores_Dual                               341 non-null uint8\n",
      "Num_cores_Hexa                               341 non-null uint8\n",
      "Num_cores_Octa                               341 non-null uint8\n",
      "Num_cores_Other                              341 non-null uint8\n",
      "Num_cores_Quad                               341 non-null uint8\n",
      "Num_cores_Tru-Octa                           341 non-null uint8\n",
      "SIM 2_2G                                     341 non-null uint8\n",
      "SIM 2_3G                                     341 non-null uint8\n",
      "SIM 2_4G                                     341 non-null uint8\n",
      "SIM 2_Other                                  341 non-null uint8\n",
      "os_name_Android                              341 non-null uint8\n",
      "os_name_Blackberry                           341 non-null uint8\n",
      "os_name_KAI                                  341 non-null uint8\n",
      "os_name_Nokia                                341 non-null uint8\n",
      "os_name_Other                                341 non-null uint8\n",
      "os_name_Tizen                                341 non-null uint8\n",
      "os_name_iOS                                  341 non-null uint8\n",
      "Rating                                       341 non-null float64\n",
      "dtypes: float64(5), int32(4), int64(3), uint8(76)\n",
      "memory usage: 54.6 KB\n"
     ]
    }
   ],
   "source": [
    "train_new.info()"
   ]
  },
  {
   "cell_type": "code",
   "execution_count": 24,
   "metadata": {},
   "outputs": [
    {
     "name": "stdout",
     "output_type": "stream",
     "text": [
      "<class 'pandas.core.frame.DataFrame'>\n",
      "Int64Index: 119 entries, 0 to 118\n",
      "Data columns (total 87 columns):\n",
      "PhoneId                                      119 non-null int64\n",
      "Internal Memory                              119 non-null int32\n",
      "Processor_frequency                          119 non-null float64\n",
      "Capacity                                     119 non-null int64\n",
      "Pixel Density                                119 non-null int64\n",
      "Weight                                       119 non-null int32\n",
      "Screen Size                                  119 non-null float64\n",
      "Height                                       119 non-null float64\n",
      "Screen to Body Ratio (calculated)            119 non-null float64\n",
      "Resolution                                   119 non-null int32\n",
      "RAM                                          119 non-null int32\n",
      "Sim1_2G                                      119 non-null uint8\n",
      "Sim1_3G                                      119 non-null uint8\n",
      "Sim1_4G                                      119 non-null uint8\n",
      "Brand_10.or                                  119 non-null uint8\n",
      "Brand_Apple                                  119 non-null uint8\n",
      "Brand_Asus                                   119 non-null uint8\n",
      "Brand_Billion                                119 non-null uint8\n",
      "Brand_Blackberry                             119 non-null uint8\n",
      "Brand_Comio                                  119 non-null uint8\n",
      "Brand_Coolpad                                119 non-null uint8\n",
      "Brand_Do                                     119 non-null uint8\n",
      "Brand_Gionee                                 119 non-null uint8\n",
      "Brand_Google                                 119 non-null uint8\n",
      "Brand_HTC                                    119 non-null uint8\n",
      "Brand_Honor                                  119 non-null uint8\n",
      "Brand_Huawei                                 119 non-null uint8\n",
      "Brand_InFocus                                119 non-null uint8\n",
      "Brand_Infinix                                119 non-null uint8\n",
      "Brand_Intex                                  119 non-null uint8\n",
      "Brand_Itel                                   119 non-null uint8\n",
      "Brand_Jivi                                   119 non-null uint8\n",
      "Brand_Karbonn                                119 non-null uint8\n",
      "Brand_LG                                     119 non-null uint8\n",
      "Brand_Lava                                   119 non-null uint8\n",
      "Brand_LeEco                                  119 non-null uint8\n",
      "Brand_Lenovo                                 119 non-null uint8\n",
      "Brand_Lephone                                119 non-null uint8\n",
      "Brand_Lyf                                    119 non-null uint8\n",
      "Brand_Meizu                                  119 non-null uint8\n",
      "Brand_Micromax                               119 non-null uint8\n",
      "Brand_Mobiistar                              119 non-null uint8\n",
      "Brand_Moto                                   119 non-null uint8\n",
      "Brand_Motorola                               119 non-null uint8\n",
      "Brand_Nokia                                  119 non-null uint8\n",
      "Brand_Nubia                                  119 non-null uint8\n",
      "Brand_OPPO                                   119 non-null uint8\n",
      "Brand_OnePlus                                119 non-null uint8\n",
      "Brand_Oppo                                   119 non-null uint8\n",
      "Brand_Panasonic                              119 non-null uint8\n",
      "Brand_Razer                                  119 non-null uint8\n",
      "Brand_Realme                                 119 non-null uint8\n",
      "Brand_Reliance                               119 non-null uint8\n",
      "Brand_Samsung                                119 non-null uint8\n",
      "Brand_Sony                                   119 non-null uint8\n",
      "Brand_Spice                                  119 non-null uint8\n",
      "Brand_Tecno                                  119 non-null uint8\n",
      "Brand_Ulefone                                119 non-null uint8\n",
      "Brand_VOTO                                   119 non-null uint8\n",
      "Brand_Vivo                                   119 non-null uint8\n",
      "Brand_Xiaomi                                 119 non-null uint8\n",
      "Brand_Xiaomi Poco                            119 non-null uint8\n",
      "Brand_Yu                                     119 non-null uint8\n",
      "Brand_iVooMi                                 119 non-null uint8\n",
      "SIM Slot(s)_Dual SIM, GSM+CDMA               119 non-null uint8\n",
      "SIM Slot(s)_Dual SIM, GSM+GSM                119 non-null uint8\n",
      "SIM Slot(s)_Dual SIM, GSM+GSM, Dual VoLTE    119 non-null uint8\n",
      "SIM Slot(s)_Single SIM, GSM                  119 non-null uint8\n",
      "Num_cores_312                                119 non-null uint8\n",
      "Num_cores_Deca                               119 non-null uint8\n",
      "Num_cores_Dual                               119 non-null uint8\n",
      "Num_cores_Hexa                               119 non-null uint8\n",
      "Num_cores_Octa                               119 non-null uint8\n",
      "Num_cores_Other                              119 non-null uint8\n",
      "Num_cores_Quad                               119 non-null uint8\n",
      "Num_cores_Tru-Octa                           119 non-null uint8\n",
      "SIM 2_2G                                     119 non-null uint8\n",
      "SIM 2_3G                                     119 non-null uint8\n",
      "SIM 2_4G                                     119 non-null uint8\n",
      "SIM 2_Other                                  119 non-null uint8\n",
      "os_name_Android                              119 non-null uint8\n",
      "os_name_Blackberry                           119 non-null uint8\n",
      "os_name_KAI                                  119 non-null uint8\n",
      "os_name_Nokia                                119 non-null uint8\n",
      "os_name_Other                                119 non-null uint8\n",
      "os_name_Tizen                                119 non-null uint8\n",
      "os_name_iOS                                  119 non-null uint8\n",
      "dtypes: float64(4), int32(4), int64(3), uint8(76)\n",
      "memory usage: 18.1 KB\n"
     ]
    }
   ],
   "source": [
    "test_new.info()"
   ]
  },
  {
   "cell_type": "markdown",
   "metadata": {},
   "source": [
    "## Model"
   ]
  },
  {
   "cell_type": "code",
   "execution_count": 25,
   "metadata": {},
   "outputs": [],
   "source": [
    "class MPNeuron:\n",
    "    \n",
    "    def __init__(self):\n",
    "        self.b = None\n",
    "    \n",
    "    def model(self, x):\n",
    "        return (sum(x) >= self.b )\n",
    "    \n",
    "    def predict(self,X):\n",
    "        Y_pred = []\n",
    "        for x in X:\n",
    "            y_pred=self.model(x)\n",
    "            Y_pred.append(y_pred)\n",
    "        return np.array(Y_pred)\n",
    "    \n",
    "    def fit(self,X,Y):\n",
    "        accuracy = {}\n",
    "        \n",
    "        for b in range(X.shape[1]+1):\n",
    "            self.b = b\n",
    "            Y_pred = self.predict(X)\n",
    "            accuracy[b] = accuracy_score(Y, Y_pred)\n",
    "            \n",
    "        best_b = max(accuracy, key= accuracy.get)\n",
    "        self.b = best_b\n",
    "        \n",
    "        print(f' B value : {self.b}')\n",
    "        print(f'accuracy : {accuracy[best_b]}')"
   ]
  },
  {
   "cell_type": "code",
   "execution_count": 26,
   "metadata": {},
   "outputs": [],
   "source": [
    "import seaborn as sns"
   ]
  },
  {
   "cell_type": "code",
   "execution_count": 27,
   "metadata": {},
   "outputs": [],
   "source": [
    "train_new_1 = train_new.copy()\n",
    "test_new_1 = test_new.copy()"
   ]
  },
  {
   "cell_type": "code",
   "execution_count": 28,
   "metadata": {},
   "outputs": [
    {
     "data": {
      "text/plain": [
       "<matplotlib.axes._subplots.AxesSubplot at 0x2bb35d52cc0>"
      ]
     },
     "execution_count": 28,
     "metadata": {},
     "output_type": "execute_result"
    },
    {
     "data": {
      "image/png": "[encoded data removed]",
      "text/plain": [
       "<Figure size 1008x576 with 1 Axes>"
      ]
     },
     "metadata": {
      "needs_background": "light"
     },
     "output_type": "display_data"
    }
   ],
   "source": [
    "plt.figure(figsize=(14,8))\n",
    "sns.scatterplot(x='Screen Size', y='Pixel Density', hue='Rating', data= train_new)"
   ]
  },
  {
   "cell_type": "code",
   "execution_count": 29,
   "metadata": {},
   "outputs": [
    {
     "data": {
      "text/plain": [
       "<matplotlib.axes._subplots.AxesSubplot at 0x2bb362a3160>"
      ]
     },
     "execution_count": 29,
     "metadata": {},
     "output_type": "execute_result"
    },
    {
     "data": {
      "image/png": "[encoded data removed]",
      "text/plain": [
       "<Figure size 432x288 with 1 Axes>"
      ]
     },
     "metadata": {
      "needs_background": "light"
     },
     "output_type": "display_data"
    }
   ],
   "source": [
    "sns.boxplot('Brand_Apple', 'Rating', data=train_new)"
   ]
  },
  {
   "cell_type": "markdown",
   "metadata": {},
   "source": [
    "### here as brandname apple have more good rating"
   ]
  },
  {
   "cell_type": "code",
   "execution_count": 30,
   "metadata": {},
   "outputs": [
    {
     "data": {
      "text/plain": [
       "<seaborn.axisgrid.JointGrid at 0x2bb3605d400>"
      ]
     },
     "execution_count": 30,
     "metadata": {},
     "output_type": "execute_result"
    },
    {
     "data": {
      "image/png": "[encoded data removed]",
      "text/plain": [
       "<Figure size 432x432 with 3 Axes>"
      ]
     },
     "metadata": {
      "needs_background": "light"
     },
     "output_type": "display_data"
    }
   ],
   "source": [
    "sns.jointplot('Brand_Samsung', 'Rating', data=train_new)"
   ]
  },
  {
   "cell_type": "markdown",
   "metadata": {},
   "source": [
    "### samsung have mix rating"
   ]
  },
  {
   "cell_type": "code",
   "execution_count": 31,
   "metadata": {},
   "outputs": [
    {
     "data": {
      "text/plain": [
       "<Figure size 3600x504 with 0 Axes>"
      ]
     },
     "execution_count": 31,
     "metadata": {},
     "output_type": "execute_result"
    },
    {
     "data": {
      "image/png": "[encoded data removed]",
      "text/plain": [
       "<Figure size 432x432 with 3 Axes>"
      ]
     },
     "metadata": {
      "needs_background": "light"
     },
     "output_type": "display_data"
    },
    {
     "data": {
      "text/plain": [
       "<Figure size 3600x504 with 0 Axes>"
      ]
     },
     "metadata": {},
     "output_type": "display_data"
    }
   ],
   "source": [
    "sns.jointplot('Pixel Density', 'Capacity'  ,data= train_new, kind='kde')\n",
    "sns.set_style(style='darkgrid')\n",
    "sns.axes_style(style='darkgrid')\n",
    "plt.figure(figsize=(50,7))"
   ]
  },
  {
   "cell_type": "code",
   "execution_count": 32,
   "metadata": {},
   "outputs": [
    {
     "data": {
      "text/plain": [
       "<matplotlib.axes._subplots.AxesSubplot at 0x2bb364c7c50>"
      ]
     },
     "execution_count": 32,
     "metadata": {},
     "output_type": "execute_result"
    },
    {
     "data": {
      "image/png": "[encoded data removed]",
      "text/plain": [
       "<Figure size 432x288 with 1 Axes>"
      ]
     },
     "metadata": {},
     "output_type": "display_data"
    }
   ],
   "source": [
    "sns.scatterplot(x='Pixel Density', y='Capacity', hue='Rating', data=train_new)"
   ]
  },
  {
   "cell_type": "code",
   "execution_count": 33,
   "metadata": {},
   "outputs": [
    {
     "data": {
      "text/plain": [
       "<seaborn.axisgrid.JointGrid at 0x2bb365245f8>"
      ]
     },
     "execution_count": 33,
     "metadata": {},
     "output_type": "execute_result"
    },
    {
     "data": {
      "image/png": "[encoded data removed]",
      "text/plain": [
       "<Figure size 432x432 with 3 Axes>"
      ]
     },
     "metadata": {},
     "output_type": "display_data"
    }
   ],
   "source": [
    "sns.jointplot(\"Pixel Density\", \"Rating\", data=train_new, kind='kde' )"
   ]
  },
  {
   "cell_type": "code",
   "execution_count": 34,
   "metadata": {},
   "outputs": [
    {
     "data": {
      "text/plain": [
       "<seaborn.axisgrid.JointGrid at 0x2bb36d86cf8>"
      ]
     },
     "execution_count": 34,
     "metadata": {},
     "output_type": "execute_result"
    },
    {
     "data": {
      "image/png": "[encoded data removed]",
      "text/plain": [
       "<Figure size 432x432 with 3 Axes>"
      ]
     },
     "metadata": {},
     "output_type": "display_data"
    }
   ],
   "source": [
    "sns.jointplot(\"RAM\", \"Rating\", data=train_new, kind=\"hex\")"
   ]
  },
  {
   "cell_type": "code",
   "execution_count": null,
   "metadata": {},
   "outputs": [],
   "source": [
    "sns.pairplot(data= train_new.iloc[:,[1,2,3,4,87]], hue='Rating' )"
   ]
  },
  {
   "cell_type": "code",
   "execution_count": null,
   "metadata": {},
   "outputs": [],
   "source": []
  },
  {
   "cell_type": "markdown",
   "metadata": {},
   "source": [
    "## Checking Correlation\n"
   ]
  },
  {
   "cell_type": "code",
   "execution_count": null,
   "metadata": {},
   "outputs": [],
   "source": []
  },
  {
   "cell_type": "code",
   "execution_count": 31,
   "metadata": {},
   "outputs": [
    {
     "data": {
      "text/html": [
       "<div>\n",
       "<style scoped>\n",
       "    .dataframe tbody tr th:only-of-type {\n",
       "        vertical-align: middle;\n",
       "    }\n",
       "\n",
       "    .dataframe tbody tr th {\n",
       "        vertical-align: top;\n",
       "    }\n",
       "\n",
       "    .dataframe thead th {\n",
       "        text-align: right;\n",
       "    }\n",
       "</style>\n",
       "<table border=\"1\" class=\"dataframe\">\n",
       "  <thead>\n",
       "    <tr style=\"text-align: right;\">\n",
       "      <th></th>\n",
       "      <th>PhoneId</th>\n",
       "      <th>Processor_frequency</th>\n",
       "      <th>Resolution</th>\n",
       "      <th>Pixel Density</th>\n",
       "      <th>Screen Size</th>\n",
       "      <th>Capacity</th>\n",
       "      <th>Weight</th>\n",
       "      <th>RAM</th>\n",
       "      <th>Internal Memory</th>\n",
       "      <th>Height</th>\n",
       "    </tr>\n",
       "  </thead>\n",
       "  <tbody>\n",
       "    <tr>\n",
       "      <th>0</th>\n",
       "      <td>0</td>\n",
       "      <td>1.8</td>\n",
       "      <td>20</td>\n",
       "      <td>403</td>\n",
       "      <td>6.26</td>\n",
       "      <td>4000</td>\n",
       "      <td>182</td>\n",
       "      <td>4</td>\n",
       "      <td>64</td>\n",
       "      <td>157.9</td>\n",
       "    </tr>\n",
       "    <tr>\n",
       "      <th>1</th>\n",
       "      <td>1</td>\n",
       "      <td>1.8</td>\n",
       "      <td>8</td>\n",
       "      <td>271</td>\n",
       "      <td>6.20</td>\n",
       "      <td>4230</td>\n",
       "      <td>168</td>\n",
       "      <td>3</td>\n",
       "      <td>32</td>\n",
       "      <td>156.2</td>\n",
       "    </tr>\n",
       "    <tr>\n",
       "      <th>2</th>\n",
       "      <td>2</td>\n",
       "      <td>2.1</td>\n",
       "      <td>25</td>\n",
       "      <td>409</td>\n",
       "      <td>6.30</td>\n",
       "      <td>3500</td>\n",
       "      <td>168</td>\n",
       "      <td>3</td>\n",
       "      <td>32</td>\n",
       "      <td>157.0</td>\n",
       "    </tr>\n",
       "    <tr>\n",
       "      <th>3</th>\n",
       "      <td>4</td>\n",
       "      <td>2.2</td>\n",
       "      <td>24</td>\n",
       "      <td>411</td>\n",
       "      <td>6.00</td>\n",
       "      <td>3300</td>\n",
       "      <td>169</td>\n",
       "      <td>4</td>\n",
       "      <td>64</td>\n",
       "      <td>159.8</td>\n",
       "    </tr>\n",
       "    <tr>\n",
       "      <th>4</th>\n",
       "      <td>5</td>\n",
       "      <td>2.2</td>\n",
       "      <td>16</td>\n",
       "      <td>396</td>\n",
       "      <td>6.50</td>\n",
       "      <td>3750</td>\n",
       "      <td>175</td>\n",
       "      <td>4</td>\n",
       "      <td>64</td>\n",
       "      <td>160.4</td>\n",
       "    </tr>\n",
       "  </tbody>\n",
       "</table>\n",
       "</div>"
      ],
      "text/plain": [
       "   PhoneId  Processor_frequency  Resolution  Pixel Density  Screen Size  \\\n",
       "0        0                  1.8          20            403         6.26   \n",
       "1        1                  1.8           8            271         6.20   \n",
       "2        2                  2.1          25            409         6.30   \n",
       "3        4                  2.2          24            411         6.00   \n",
       "4        5                  2.2          16            396         6.50   \n",
       "\n",
       "   Capacity  Weight  RAM  Internal Memory  Height  \n",
       "0      4000     182    4               64   157.9  \n",
       "1      4230     168    3               32   156.2  \n",
       "2      3500     168    3               32   157.0  \n",
       "3      3300     169    4               64   159.8  \n",
       "4      3750     175    4               64   160.4  "
      ]
     },
     "execution_count": 31,
     "metadata": {},
     "output_type": "execute_result"
    }
   ],
   "source": [
    "train_corr = train_new.iloc[:,[0,1,2,3,4,5,6,7,8,9]]\n",
    "train_corr.head()"
   ]
  },
  {
   "cell_type": "code",
   "execution_count": 32,
   "metadata": {},
   "outputs": [
    {
     "data": {
      "text/html": [
       "<div>\n",
       "<style scoped>\n",
       "    .dataframe tbody tr th:only-of-type {\n",
       "        vertical-align: middle;\n",
       "    }\n",
       "\n",
       "    .dataframe tbody tr th {\n",
       "        vertical-align: top;\n",
       "    }\n",
       "\n",
       "    .dataframe thead th {\n",
       "        text-align: right;\n",
       "    }\n",
       "</style>\n",
       "<table border=\"1\" class=\"dataframe\">\n",
       "  <thead>\n",
       "    <tr style=\"text-align: right;\">\n",
       "      <th></th>\n",
       "      <th>level_0</th>\n",
       "      <th>level_1</th>\n",
       "      <th>0</th>\n",
       "    </tr>\n",
       "  </thead>\n",
       "  <tbody>\n",
       "    <tr>\n",
       "      <th>80</th>\n",
       "      <td>Capacity</td>\n",
       "      <td>Height</td>\n",
       "      <td>0.635365</td>\n",
       "    </tr>\n",
       "    <tr>\n",
       "      <th>81</th>\n",
       "      <td>Height</td>\n",
       "      <td>Capacity</td>\n",
       "      <td>0.635365</td>\n",
       "    </tr>\n",
       "    <tr>\n",
       "      <th>82</th>\n",
       "      <td>Pixel Density</td>\n",
       "      <td>Processor_frequency</td>\n",
       "      <td>0.639060</td>\n",
       "    </tr>\n",
       "    <tr>\n",
       "      <th>83</th>\n",
       "      <td>Processor_frequency</td>\n",
       "      <td>Pixel Density</td>\n",
       "      <td>0.639060</td>\n",
       "    </tr>\n",
       "    <tr>\n",
       "      <th>84</th>\n",
       "      <td>Weight</td>\n",
       "      <td>Height</td>\n",
       "      <td>0.642595</td>\n",
       "    </tr>\n",
       "    <tr>\n",
       "      <th>85</th>\n",
       "      <td>Height</td>\n",
       "      <td>Weight</td>\n",
       "      <td>0.642595</td>\n",
       "    </tr>\n",
       "    <tr>\n",
       "      <th>86</th>\n",
       "      <td>Capacity</td>\n",
       "      <td>Weight</td>\n",
       "      <td>0.687891</td>\n",
       "    </tr>\n",
       "    <tr>\n",
       "      <th>87</th>\n",
       "      <td>Weight</td>\n",
       "      <td>Capacity</td>\n",
       "      <td>0.687891</td>\n",
       "    </tr>\n",
       "    <tr>\n",
       "      <th>88</th>\n",
       "      <td>Screen Size</td>\n",
       "      <td>Height</td>\n",
       "      <td>0.861143</td>\n",
       "    </tr>\n",
       "    <tr>\n",
       "      <th>89</th>\n",
       "      <td>Height</td>\n",
       "      <td>Screen Size</td>\n",
       "      <td>0.861143</td>\n",
       "    </tr>\n",
       "  </tbody>\n",
       "</table>\n",
       "</div>"
      ],
      "text/plain": [
       "                level_0              level_1         0\n",
       "80             Capacity               Height  0.635365\n",
       "81               Height             Capacity  0.635365\n",
       "82        Pixel Density  Processor_frequency  0.639060\n",
       "83  Processor_frequency        Pixel Density  0.639060\n",
       "84               Weight               Height  0.642595\n",
       "85               Height               Weight  0.642595\n",
       "86             Capacity               Weight  0.687891\n",
       "87               Weight             Capacity  0.687891\n",
       "88          Screen Size               Height  0.861143\n",
       "89               Height          Screen Size  0.861143"
      ]
     },
     "execution_count": 32,
     "metadata": {},
     "output_type": "execute_result"
    }
   ],
   "source": [
    "correlations = train_corr.corr().abs().unstack().sort_values(kind=\"quicksort\").reset_index()\n",
    "correlations = correlations[correlations['level_0'] != correlations['level_1']]\n",
    "\n",
    "correlations.tail(10)"
   ]
  },
  {
   "cell_type": "code",
   "execution_count": 33,
   "metadata": {},
   "outputs": [],
   "source": [
    "def rating(x):\n",
    "    return 1 if (x >= 4.0 ) else 0\n",
    "train_new['Rating'] = train_new['Rating'].apply(rating,)\n",
    "def RAM(x):\n",
    "    if x >= 2 : #x >= 6\n",
    "        return 1\n",
    "    else:\n",
    "        return 0\n",
    "\n",
    "train_new['RAM'] = train_new['RAM'].apply(RAM)\n",
    "test_new['RAM'] = test_new['RAM'].apply(RAM)\n",
    "def Height(x):\n",
    "    if x >= 136.5: #x >= 150\n",
    "        return 1\n",
    "    else:\n",
    "        return 0\n",
    "    \n",
    "train_new['Height'] = train_new['Height'].apply(Height)\n",
    "test_new['Height'] = test_new['Height'].apply(Height)\n",
    "def Processor_frequency(x):\n",
    "    if x >= 1.4: #x > 1.5\n",
    "        return 1\n",
    "    else:\n",
    "        return 0\n",
    "    \n",
    "train_new['Processor_frequency'] = train_new['Processor_frequency'].apply(Processor_frequency)\n",
    "test_new['Processor_frequency'] = test_new['Processor_frequency'].apply(Processor_frequency)\n",
    "def Capacity(x):\n",
    "    if x >= 2350: #x >= 4100\n",
    "        return 1\n",
    "    else:\n",
    "        return 0 \n",
    "    \n",
    "train_new['Capacity'] = train_new['Capacity'].apply(Capacity)\n",
    "test_new['Capacity'] = test_new['Capacity'].apply(Capacity)\n",
    "def Pixel_Density(x):\n",
    "    if x >= 234: #x >= 271\n",
    "        return 1\n",
    "    else:\n",
    "        return 0\n",
    "\n",
    "train_new['Pixel Density'] = train_new['Pixel Density'].apply(Pixel_Density)\n",
    "test_new['Pixel Density'] = test_new['Pixel Density'].apply(Pixel_Density)\n",
    "def Resolution(x):\n",
    "    if x >= 5: # x > 8 \n",
    "        return 1\n",
    "    else:\n",
    "        return 0\n",
    "    \n",
    "train_new['Resolution'] = train_new['Resolution'].apply(Resolution)\n",
    "test_new['Resolution'] = test_new['Resolution'].apply(Resolution)\n",
    "def Weight(x):\n",
    "    if x >= 129: # x > 164\n",
    "        return 1\n",
    "    else:\n",
    "        return 0\n",
    "    \n",
    "train_new['Weight'] = train_new['Weight'].apply(Weight)\n",
    "test_new['Weight'] = test_new['Weight'].apply(Weight)\n",
    "def Screen_to_Body_Ratio(x):\n",
    "    if x >= 65.23 : #x > 65.47\n",
    "        return 1\n",
    "    else:\n",
    "        return 0\n",
    "    \n",
    "train_new['Screen to Body Ratio (calculated)'] = train_new['Screen to Body Ratio (calculated)'].apply(Screen_to_Body_Ratio)\n",
    "test_new['Screen to Body Ratio (calculated)'] = test_new['Screen to Body Ratio (calculated)'].apply(Screen_to_Body_Ratio)\n",
    "def Screen_Size(x):\n",
    "    if x >= 4.7: #x > 5.5\n",
    "        return 1\n",
    "    else:\n",
    "        return 0\n",
    "    \n",
    "train_new['Screen Size'] = train_new['Screen Size'].apply(Screen_Size)\n",
    "test_new['Screen Size'] = test_new['Screen Size'].apply(Screen_Size)\n",
    "def Internal_memory(x):\n",
    "    if x >= 16: #x >= 32\n",
    "        return 1\n",
    "    else:\n",
    "        return 0\n",
    "    \n",
    "train_new['Internal Memory'] = train_new['Internal Memory'].apply(Internal_memory)\n",
    "test_new['Internal Memory'] = test_new['Internal Memory'].apply(Internal_memory)"
   ]
  },
  {
   "cell_type": "code",
   "execution_count": 34,
   "metadata": {},
   "outputs": [
    {
     "data": {
      "text/plain": [
       "<matplotlib.axes._subplots.AxesSubplot at 0x1785b12d710>"
      ]
     },
     "execution_count": 34,
     "metadata": {},
     "output_type": "execute_result"
    },
    {
     "data": {
      "image/png": "[encoded data removed]",
      "text/plain": [
       "<Figure size 432x288 with 2 Axes>"
      ]
     },
     "metadata": {
      "needs_background": "light"
     },
     "output_type": "display_data"
    }
   ],
   "source": [
    "sns.heatmap(train_new)"
   ]
  },
  {
   "cell_type": "code",
   "execution_count": 35,
   "metadata": {},
   "outputs": [],
   "source": [
    "#X = train_new[['Capacity','Height','Pixel Density', 'Processor_frequency','Resolution','RAM', 'Screen Size','Screen to Body Ratio (calculated)','Internal Memory','Weight' ]]\n",
    "X = train_new.drop(['PhoneId','Rating'], axis=1)\n",
    "#X_bin = X.apply(pd.cut, bins=2, labels=[1,0])\n",
    "y = train_new['Rating']"
   ]
  },
  {
   "cell_type": "code",
   "execution_count": 36,
   "metadata": {},
   "outputs": [],
   "source": [
    "X_train, X_test, y_train, y_test = train_test_split(X, y, test_size=0.2, )"
   ]
  },
  {
   "cell_type": "code",
   "execution_count": 37,
   "metadata": {},
   "outputs": [],
   "source": [
    "X_train = X_train.values\n",
    "X_test = X_test.values"
   ]
  },
  {
   "cell_type": "code",
   "execution_count": 38,
   "metadata": {},
   "outputs": [
    {
     "name": "stdout",
     "output_type": "stream",
     "text": [
      " B value : 14\n",
      "accuracy : 0.7316176470588235\n"
     ]
    }
   ],
   "source": [
    "mpneuron =MPNeuron()\n",
    "mpneuron.fit(X_train, y_train)\n"
   ]
  },
  {
   "cell_type": "code",
   "execution_count": 39,
   "metadata": {},
   "outputs": [
    {
     "name": "stdout",
     "output_type": "stream",
     "text": [
      "0.7681159420289855\n"
     ]
    }
   ],
   "source": [
    "predict =mpneuron.predict(X_test)\n",
    "accuracy = accuracy_score(predict, y_test)\n",
    "print(accuracy)"
   ]
  },
  {
   "cell_type": "code",
   "execution_count": 40,
   "metadata": {},
   "outputs": [],
   "source": [
    "test = test_new.drop('PhoneId', axis=1)"
   ]
  },
  {
   "cell_type": "code",
   "execution_count": 41,
   "metadata": {},
   "outputs": [],
   "source": [
    "test = test.values"
   ]
  },
  {
   "cell_type": "code",
   "execution_count": 42,
   "metadata": {},
   "outputs": [],
   "source": [
    "predict =mpneuron.predict(test)"
   ]
  },
  {
   "cell_type": "code",
   "execution_count": 43,
   "metadata": {},
   "outputs": [],
   "source": [
    "predict = pd.DataFrame(predict, columns=['Rating'], dtype='int')"
   ]
  },
  {
   "cell_type": "code",
   "execution_count": 44,
   "metadata": {},
   "outputs": [
    {
     "data": {
      "text/html": [
       "<div>\n",
       "<style scoped>\n",
       "    .dataframe tbody tr th:only-of-type {\n",
       "        vertical-align: middle;\n",
       "    }\n",
       "\n",
       "    .dataframe tbody tr th {\n",
       "        vertical-align: top;\n",
       "    }\n",
       "\n",
       "    .dataframe thead th {\n",
       "        text-align: right;\n",
       "    }\n",
       "</style>\n",
       "<table border=\"1\" class=\"dataframe\">\n",
       "  <thead>\n",
       "    <tr style=\"text-align: right;\">\n",
       "      <th></th>\n",
       "      <th>PhoneId</th>\n",
       "      <th>Class</th>\n",
       "    </tr>\n",
       "  </thead>\n",
       "  <tbody>\n",
       "    <tr>\n",
       "      <th>0</th>\n",
       "      <td>3</td>\n",
       "      <td>1</td>\n",
       "    </tr>\n",
       "    <tr>\n",
       "      <th>1</th>\n",
       "      <td>11</td>\n",
       "      <td>1</td>\n",
       "    </tr>\n",
       "    <tr>\n",
       "      <th>2</th>\n",
       "      <td>13</td>\n",
       "      <td>1</td>\n",
       "    </tr>\n",
       "    <tr>\n",
       "      <th>3</th>\n",
       "      <td>16</td>\n",
       "      <td>1</td>\n",
       "    </tr>\n",
       "    <tr>\n",
       "      <th>4</th>\n",
       "      <td>19</td>\n",
       "      <td>1</td>\n",
       "    </tr>\n",
       "  </tbody>\n",
       "</table>\n",
       "</div>"
      ],
      "text/plain": [
       "   PhoneId  Class\n",
       "0        3      1\n",
       "1       11      1\n",
       "2       13      1\n",
       "3       16      1\n",
       "4       19      1"
      ]
     },
     "execution_count": 44,
     "metadata": {},
     "output_type": "execute_result"
    }
   ],
   "source": [
    "submission = pd.DataFrame({'PhoneId':test_new['PhoneId'], 'Class':predict['Rating']})\n",
    "submission = submission[['PhoneId', 'Class']]\n",
    "submission.head()"
   ]
  },
  {
   "cell_type": "code",
   "execution_count": 45,
   "metadata": {},
   "outputs": [],
   "source": [
    "submission.to_csv(\"submission.csv\", index=False)"
   ]
  },
  {
   "cell_type": "code",
   "execution_count": null,
   "metadata": {},
   "outputs": [],
   "source": []
  },
  {
   "cell_type": "markdown",
   "metadata": {},
   "source": [
    "### Perceptron Model"
   ]
  },
  {
   "cell_type": "code",
   "execution_count": 46,
   "metadata": {},
   "outputs": [],
   "source": [
    "class Perceptron:\n",
    "    def __init__ (self):\n",
    "        self.w = None\n",
    "        self.b = None\n",
    "    def model(self, x):\n",
    "        return 1 if (np.dot(self.w, x) >= self.b) else 0\n",
    "    def predict(self, X):\n",
    "        \n",
    "        Y = []\n",
    "        for x in X:\n",
    "            result = self.model(x)\n",
    "            Y.append(result)\n",
    "        return np.array(Y)\n",
    "    \n",
    "    def fit(self, X, Y, epochs = 1, lr = 1):\n",
    "    \n",
    "        self.w = np.ones(X.shape[1])\n",
    "        self.b = 0\n",
    "    \n",
    "        accuracy = {}\n",
    "        max_accuracy = 0\n",
    "    \n",
    "        wt_matrix = []\n",
    "    \n",
    "        for i in range(epochs):\n",
    "            for x, y in zip(X, Y):\n",
    "                y_pred = self.model(x)\n",
    "                if y == 1 and y_pred == 0:\n",
    "                    self.w = self.w + lr * x\n",
    "                    self.b = self.b + lr * 1\n",
    "                elif y == 0 and y_pred == 1:\n",
    "                    self.w = self.w - lr * x\n",
    "                    self.b = self.b - lr * 1\n",
    "            wt_matrix.append(self.w)\n",
    "            accuracy[i] = accuracy_score(self.predict(X), Y)\n",
    "            if (accuracy[i] > max_accuracy):\n",
    "                max_accuracy = accuracy[i]\n",
    "                chkptw = self.w\n",
    "                chkptb = self.b\n",
    "        \n",
    "        self.w = chkptw\n",
    "        self.b = chkptb\n",
    "        \n",
    "        print(max_accuracy)\n",
    "        plt.plot(accuracy.values())\n",
    "        plt.ylim([0, 1])\n",
    "        plt.show()\n",
    "    \n",
    "        return np.array(wt_matrix)"
   ]
  },
  {
   "cell_type": "code",
   "execution_count": 47,
   "metadata": {},
   "outputs": [],
   "source": [
    "def rate(x):\n",
    "    if x>= 4.0:\n",
    "        return 1\n",
    "    else:\n",
    "        return 0"
   ]
  },
  {
   "cell_type": "code",
   "execution_count": 48,
   "metadata": {},
   "outputs": [],
   "source": [
    "#X = train_new[['Capacity','Height','Pixel Density', 'Processor_frequency','Resolution','RAM', 'Screen Size','Screen to Body Ratio (calculated)','Internal Memory','Weight' ]]\n",
    "X = train_new_1.drop(['PhoneId','Rating'], axis=1)\n",
    "#X_bin = X.apply(pd.cut, bins=2, labels=[1,0])\n",
    "y = train_new_1['Rating']\n",
    "y = y.apply(rate)\n",
    "perceptron = Perceptron()"
   ]
  },
  {
   "cell_type": "code",
   "execution_count": 49,
   "metadata": {},
   "outputs": [],
   "source": [
    "X_train, X_test, y_train, y_test = train_test_split(X, y, test_size=0.2, )"
   ]
  },
  {
   "cell_type": "code",
   "execution_count": 50,
   "metadata": {},
   "outputs": [],
   "source": [
    "X_train = X_train.values\n",
    "X_test = X_test.values\n"
   ]
  },
  {
   "cell_type": "code",
   "execution_count": 51,
   "metadata": {},
   "outputs": [
    {
     "name": "stdout",
     "output_type": "stream",
     "text": [
      "0.7683823529411765\n"
     ]
    },
    {
     "data": {
      "image/png": "[encoded data removed]",
      "text/plain": [
       "<Figure size 432x288 with 1 Axes>"
      ]
     },
     "metadata": {
      "needs_background": "light"
     },
     "output_type": "display_data"
    }
   ],
   "source": [
    "wt_metric =perceptron.fit(X_train, y_train, 1000, 0.01)"
   ]
  },
  {
   "cell_type": "code",
   "execution_count": 52,
   "metadata": {},
   "outputs": [
    {
     "data": {
      "text/plain": [
       "0.6376811594202898"
      ]
     },
     "execution_count": 52,
     "metadata": {},
     "output_type": "execute_result"
    }
   ],
   "source": [
    "y_pred = perceptron.predict(X_test)\n",
    "accuracy_score(y_test, y_pred)"
   ]
  },
  {
   "cell_type": "code",
   "execution_count": 53,
   "metadata": {},
   "outputs": [
    {
     "data": {
      "text/plain": [
       "[<matplotlib.lines.Line2D at 0x1785b256c50>]"
      ]
     },
     "execution_count": 53,
     "metadata": {},
     "output_type": "execute_result"
    },
    {
     "data": {
      "image/png": "[encoded data removed]",
      "text/plain": [
       "<Figure size 432x288 with 1 Axes>"
      ]
     },
     "metadata": {
      "needs_background": "light"
     },
     "output_type": "display_data"
    }
   ],
   "source": [
    "plt.plot(wt_metric[-1, :])"
   ]
  },
  {
   "cell_type": "code",
   "execution_count": 54,
   "metadata": {},
   "outputs": [],
   "source": [
    "from sklearn.linear_model import LinearRegression"
   ]
  },
  {
   "cell_type": "code",
   "execution_count": 55,
   "metadata": {},
   "outputs": [],
   "source": [
    "X = train_new_1.drop(['PhoneId','Rating'], axis=1)\n",
    "#X_bin = X.apply(pd.cut, bins=2, labels=[1,0])\n",
    "y = train_new_1['Rating']\n"
   ]
  },
  {
   "cell_type": "code",
   "execution_count": 56,
   "metadata": {},
   "outputs": [],
   "source": [
    "X_train, X_test, y_train, y_test = train_test_split(X, y, test_size=0.2, )"
   ]
  },
  {
   "cell_type": "code",
   "execution_count": 57,
   "metadata": {},
   "outputs": [],
   "source": [
    "lr = LinearRegression()"
   ]
  },
  {
   "cell_type": "code",
   "execution_count": 58,
   "metadata": {},
   "outputs": [
    {
     "data": {
      "text/plain": [
       "LinearRegression(copy_X=True, fit_intercept=True, n_jobs=None,\n",
       "         normalize=False)"
      ]
     },
     "execution_count": 58,
     "metadata": {},
     "output_type": "execute_result"
    }
   ],
   "source": [
    "lr.fit(X_train, y_train)"
   ]
  },
  {
   "cell_type": "code",
   "execution_count": 59,
   "metadata": {},
   "outputs": [],
   "source": [
    "y_pred = lr.predict(X_test)"
   ]
  },
  {
   "cell_type": "code",
   "execution_count": 60,
   "metadata": {},
   "outputs": [],
   "source": [
    "y_pred_1= y_pred.round(decimals=1)"
   ]
  },
  {
   "cell_type": "code",
   "execution_count": 61,
   "metadata": {},
   "outputs": [
    {
     "data": {
      "text/plain": [
       "<matplotlib.axes._subplots.AxesSubplot at 0x1785c44afd0>"
      ]
     },
     "execution_count": 61,
     "metadata": {},
     "output_type": "execute_result"
    },
    {
     "data": {
      "image/png": "[encoded data removed]",
      "text/plain": [
       "<Figure size 432x288 with 2 Axes>"
      ]
     },
     "metadata": {
      "needs_background": "light"
     },
     "output_type": "display_data"
    }
   ],
   "source": [
    "sns.heatmap(train_new_1.corr())"
   ]
  },
  {
   "cell_type": "code",
   "execution_count": 62,
   "metadata": {},
   "outputs": [
    {
     "data": {
      "text/plain": [
       "[<matplotlib.lines.Line2D at 0x1785cdec6d8>]"
      ]
     },
     "execution_count": 62,
     "metadata": {},
     "output_type": "execute_result"
    },
    {
     "data": {
      "image/png": "[encoded data removed]",
      "text/plain": [
       "<Figure size 432x288 with 1 Axes>"
      ]
     },
     "metadata": {
      "needs_background": "light"
     },
     "output_type": "display_data"
    }
   ],
   "source": [
    "plt.plot(y_pred_1,'r^')\n",
    "plt.plot(y_test,'b^')"
   ]
  },
  {
   "cell_type": "code",
   "execution_count": 63,
   "metadata": {},
   "outputs": [
    {
     "name": "stdout",
     "output_type": "stream",
     "text": [
      "18\n",
      "23\n",
      "28\n",
      "69\n"
     ]
    }
   ],
   "source": [
    "count = 0 \n",
    "count_1 = 0\n",
    "count_2 = 0\n",
    "for x, y in zip(y_pred_1, y_test):\n",
    "    if x == y:\n",
    "        count +=1\n",
    "    elif x> y:\n",
    "        count_1 += 1\n",
    "    else:\n",
    "        count_2 += 1\n",
    "print(count)\n",
    "print(count_1)\n",
    "print(count_2)\n",
    "print(y_pred.size)"
   ]
  },
  {
   "cell_type": "code",
   "execution_count": 64,
   "metadata": {},
   "outputs": [
    {
     "name": "stdout",
     "output_type": "stream",
     "text": [
      "3.9 2.8\n",
      "4.1 4.3\n",
      "3.9 3.7\n",
      "4.2 4.3\n",
      "3.9 4.0\n",
      "4.1 4.3\n",
      "4.1 4.2\n",
      "4.2 3.4\n",
      "3.8 3.7\n",
      "3.4 3.4\n",
      "3.8 4.0\n",
      "4.0 4.2\n",
      "4.3 4.1\n",
      "4.6 4.6\n",
      "4.3 3.9\n",
      "4.1 4.2\n",
      "4.2 4.0\n",
      "4.2 4.1\n",
      "3.3 3.9\n",
      "3.4 3.4\n",
      "3.9 4.0\n",
      "3.5 3.5\n",
      "4.1 4.0\n",
      "4.3 4.3\n",
      "3.9 4.0\n",
      "4.3 4.0\n",
      "4.0 3.0\n",
      "4.3 4.4\n",
      "4.1 3.8\n",
      "4.0 3.5\n",
      "3.9 3.7\n",
      "3.4 3.4\n",
      "4.0 4.2\n",
      "4.0 4.2\n",
      "4.2 4.4\n",
      "4.0 4.2\n",
      "4.1 4.1\n",
      "4.6 4.6\n",
      "4.0 4.5\n",
      "3.7 3.8\n",
      "3.9 4.1\n",
      "4.5 4.4\n",
      "4.2 4.4\n",
      "3.9 4.0\n",
      "4.0 4.2\n",
      "4.1 4.1\n",
      "4.6 4.5\n",
      "4.1 4.1\n",
      "4.4 4.4\n",
      "4.3 4.2\n",
      "4.3 4.3\n",
      "3.6 3.5\n",
      "4.4 4.4\n",
      "4.4 4.4\n",
      "4.4 4.5\n",
      "4.0 4.3\n",
      "3.9 4.1\n",
      "3.8 4.0\n",
      "3.9 3.9\n",
      "3.8 3.9\n",
      "4.5 4.4\n",
      "4.1 4.1\n",
      "4.1 3.1\n",
      "3.7 3.7\n",
      "4.4 4.4\n",
      "4.0 3.9\n",
      "4.2 3.0\n",
      "4.3 4.1\n",
      "4.1 4.3\n"
     ]
    }
   ],
   "source": [
    "for x, y in zip(y_pred_1, y_test):\n",
    "    print(x, y)"
   ]
  },
  {
   "cell_type": "code",
   "execution_count": 65,
   "metadata": {},
   "outputs": [
    {
     "data": {
      "text/plain": [
       "0.10842059862399232"
      ]
     },
     "execution_count": 65,
     "metadata": {},
     "output_type": "execute_result"
    }
   ],
   "source": [
    "mean_squared_error(y_test, y_pred)"
   ]
  },
  {
   "cell_type": "markdown",
   "metadata": {},
   "source": [
    "## Decision Tree "
   ]
  },
  {
   "cell_type": "code",
   "execution_count": null,
   "metadata": {},
   "outputs": [],
   "source": []
  },
  {
   "cell_type": "code",
   "execution_count": 66,
   "metadata": {},
   "outputs": [],
   "source": [
    "from sklearn.tree import  DecisionTreeRegressor"
   ]
  },
  {
   "cell_type": "code",
   "execution_count": 67,
   "metadata": {},
   "outputs": [],
   "source": [
    "regressor = DecisionTreeRegressor()"
   ]
  },
  {
   "cell_type": "code",
   "execution_count": 68,
   "metadata": {},
   "outputs": [],
   "source": [
    "X = train_new_1.drop(['PhoneId','Rating'], axis=1)\n",
    "#X_bin = X.apply(pd.cut, bins=2, labels=[1,0])\n",
    "y = train_new_1['Rating']\n"
   ]
  },
  {
   "cell_type": "code",
   "execution_count": 69,
   "metadata": {},
   "outputs": [],
   "source": [
    "X_train, X_test, y_train, y_test = train_test_split(X, y, test_size=0.2, )"
   ]
  },
  {
   "cell_type": "code",
   "execution_count": 70,
   "metadata": {},
   "outputs": [
    {
     "data": {
      "text/plain": [
       "DecisionTreeRegressor(criterion='mse', max_depth=None, max_features=None,\n",
       "           max_leaf_nodes=None, min_impurity_decrease=0.0,\n",
       "           min_impurity_split=None, min_samples_leaf=1,\n",
       "           min_samples_split=2, min_weight_fraction_leaf=0.0,\n",
       "           presort=False, random_state=None, splitter='best')"
      ]
     },
     "execution_count": 70,
     "metadata": {},
     "output_type": "execute_result"
    }
   ],
   "source": [
    "regressor.fit(X_train, y_train)"
   ]
  },
  {
   "cell_type": "code",
   "execution_count": 71,
   "metadata": {},
   "outputs": [],
   "source": [
    "from sklearn import metrics"
   ]
  },
  {
   "cell_type": "code",
   "execution_count": 72,
   "metadata": {},
   "outputs": [],
   "source": [
    "y_pred = regressor.predict(X_test)"
   ]
  },
  {
   "cell_type": "code",
   "execution_count": 73,
   "metadata": {},
   "outputs": [
    {
     "name": "stdout",
     "output_type": "stream",
     "text": [
      "0.22898550724637684\n"
     ]
    }
   ],
   "source": [
    "print(metrics.mean_absolute_error(y_test, y_pred ))"
   ]
  },
  {
   "cell_type": "code",
   "execution_count": 74,
   "metadata": {},
   "outputs": [
    {
     "data": {
      "text/plain": [
       "0.11478260869565213"
      ]
     },
     "execution_count": 74,
     "metadata": {},
     "output_type": "execute_result"
    }
   ],
   "source": [
    "mean_squared_error(y_test, y_pred)"
   ]
  },
  {
   "cell_type": "code",
   "execution_count": 75,
   "metadata": {},
   "outputs": [
    {
     "name": "stdout",
     "output_type": "stream",
     "text": [
      "6\n",
      "33\n",
      "30\n",
      "69\n"
     ]
    }
   ],
   "source": [
    "count = 0 \n",
    "count_1 = 0\n",
    "count_2 = 0\n",
    "for x, y in zip(y_pred_1.round(1), y_test):\n",
    "    if x == y:\n",
    "        count +=1\n",
    "    elif x> y:\n",
    "        count_1 += 1\n",
    "    else:\n",
    "        count_2 += 1\n",
    "print(count)\n",
    "print(count_1)\n",
    "print(count_2)\n",
    "print(y_pred.size)"
   ]
  },
  {
   "cell_type": "markdown",
   "metadata": {},
   "source": [
    "## Random Forest"
   ]
  },
  {
   "cell_type": "code",
   "execution_count": 76,
   "metadata": {},
   "outputs": [],
   "source": [
    "from sklearn.ensemble import RandomForestRegressor"
   ]
  },
  {
   "cell_type": "code",
   "execution_count": 77,
   "metadata": {},
   "outputs": [],
   "source": [
    "rfg = RandomForestRegressor(n_estimators=20)"
   ]
  },
  {
   "cell_type": "code",
   "execution_count": 78,
   "metadata": {},
   "outputs": [],
   "source": [
    "X = train_new_1.drop(['PhoneId','Rating'], axis=1)\n",
    "#X_bin = X.apply(pd.cut, bins=2, labels=[1,0])\n",
    "y = train_new_1['Rating']\n"
   ]
  },
  {
   "cell_type": "code",
   "execution_count": 79,
   "metadata": {},
   "outputs": [],
   "source": [
    "X_train, X_test, y_train, y_test = train_test_split(X, y, test_size=0.2, )"
   ]
  },
  {
   "cell_type": "code",
   "execution_count": 80,
   "metadata": {},
   "outputs": [
    {
     "data": {
      "text/plain": [
       "RandomForestRegressor(bootstrap=True, criterion='mse', max_depth=None,\n",
       "           max_features='auto', max_leaf_nodes=None,\n",
       "           min_impurity_decrease=0.0, min_impurity_split=None,\n",
       "           min_samples_leaf=1, min_samples_split=2,\n",
       "           min_weight_fraction_leaf=0.0, n_estimators=20, n_jobs=None,\n",
       "           oob_score=False, random_state=None, verbose=0, warm_start=False)"
      ]
     },
     "execution_count": 80,
     "metadata": {},
     "output_type": "execute_result"
    }
   ],
   "source": [
    "rfg.fit(X_train, y_train)"
   ]
  },
  {
   "cell_type": "code",
   "execution_count": 81,
   "metadata": {},
   "outputs": [],
   "source": [
    "y_pred_2 = rfg.predict(X_test)"
   ]
  },
  {
   "cell_type": "code",
   "execution_count": 82,
   "metadata": {},
   "outputs": [
    {
     "name": "stdout",
     "output_type": "stream",
     "text": [
      "0.21420289855072475\n"
     ]
    }
   ],
   "source": [
    "print(metrics.mean_absolute_error(y_test, y_pred_2 ))"
   ]
  },
  {
   "cell_type": "code",
   "execution_count": 83,
   "metadata": {},
   "outputs": [
    {
     "data": {
      "text/plain": [
       "0.10846666666666668"
      ]
     },
     "execution_count": 83,
     "metadata": {},
     "output_type": "execute_result"
    }
   ],
   "source": [
    "mean_squared_error(y_test, y_pred_2)"
   ]
  },
  {
   "cell_type": "code",
   "execution_count": 84,
   "metadata": {},
   "outputs": [
    {
     "name": "stdout",
     "output_type": "stream",
     "text": [
      "4.3 4.2\n",
      "4.3 4.3\n",
      "4.4 4.4\n",
      "4.1 4.3\n",
      "3.6 3.4\n",
      "4.3 4.3\n",
      "4.3 4.5\n",
      "4.1 4.4\n",
      "4.0 4.0\n",
      "4.1 3.9\n",
      "3.9 3.9\n",
      "3.8 3.8\n",
      "4.1 4.3\n",
      "4.4 4.4\n",
      "4.4 4.4\n",
      "4.5 4.5\n",
      "4.1 4.4\n",
      "4.1 3.1\n",
      "4.0 4.2\n",
      "4.2 4.3\n",
      "3.9 4.1\n",
      "4.0 3.9\n",
      "3.8 2.8\n",
      "4.4 4.3\n",
      "3.7 3.4\n",
      "4.5 4.6\n",
      "4.0 4.0\n",
      "4.0 4.4\n",
      "4.2 3.6\n",
      "4.0 4.3\n",
      "4.3 4.3\n",
      "4.1 4.3\n",
      "3.9 4.8\n",
      "4.1 4.1\n",
      "3.8 3.5\n",
      "4.3 3.9\n",
      "4.2 4.4\n",
      "4.6 4.6\n",
      "4.0 3.6\n",
      "4.1 3.9\n",
      "4.0 3.9\n",
      "3.9 3.6\n",
      "4.5 4.5\n",
      "4.2 4.3\n",
      "4.0 4.1\n",
      "4.0 3.9\n",
      "4.3 4.3\n",
      "4.3 4.3\n",
      "3.6 4.1\n",
      "4.1 4.2\n",
      "3.5 3.7\n",
      "3.6 3.4\n",
      "3.8 4.2\n",
      "4.0 4.1\n",
      "4.1 4.3\n",
      "4.1 4.3\n",
      "4.2 4.3\n",
      "3.9 3.5\n",
      "3.9 3.9\n",
      "4.2 4.3\n",
      "4.4 4.3\n",
      "3.9 4.0\n",
      "4.0 4.3\n",
      "4.0 4.2\n",
      "3.7 4.0\n",
      "4.2 3.0\n",
      "3.5 4.1\n",
      "4.3 4.4\n",
      "4.2 4.1\n"
     ]
    }
   ],
   "source": [
    "for x, y in zip(y_pred_2.round(1), y_test):\n",
    "    print(x, y)"
   ]
  },
  {
   "cell_type": "code",
   "execution_count": 85,
   "metadata": {},
   "outputs": [
    {
     "name": "stdout",
     "output_type": "stream",
     "text": [
      "17\n",
      "21\n",
      "31\n",
      "69\n"
     ]
    }
   ],
   "source": [
    "count = 0 \n",
    "count_1 = 0\n",
    "count_2 = 0\n",
    "for x, y in zip(y_pred_2.round(1), y_test):\n",
    "    if x == y:\n",
    "        count +=1\n",
    "    elif x> y:\n",
    "        count_1 += 1\n",
    "    else:\n",
    "        count_2 += 1\n",
    "print(count)\n",
    "print(count_1)\n",
    "print(count_2)\n",
    "print(y_pred.size)"
   ]
  },
  {
   "cell_type": "code",
   "execution_count": 86,
   "metadata": {},
   "outputs": [
    {
     "data": {
      "text/plain": [
       "[<matplotlib.lines.Line2D at 0x1785cfa8320>,\n",
       " <matplotlib.lines.Line2D at 0x1785d048240>,\n",
       " <matplotlib.lines.Line2D at 0x1785d048390>,\n",
       " <matplotlib.lines.Line2D at 0x1785d0484e0>,\n",
       " <matplotlib.lines.Line2D at 0x1785d048630>,\n",
       " <matplotlib.lines.Line2D at 0x1785d048780>,\n",
       " <matplotlib.lines.Line2D at 0x1785d0488d0>,\n",
       " <matplotlib.lines.Line2D at 0x1785d048a20>,\n",
       " <matplotlib.lines.Line2D at 0x1785d048b70>,\n",
       " <matplotlib.lines.Line2D at 0x1785d048cc0>,\n",
       " <matplotlib.lines.Line2D at 0x1785d048e10>,\n",
       " <matplotlib.lines.Line2D at 0x1785d048f60>,\n",
       " <matplotlib.lines.Line2D at 0x1785d04d0f0>,\n",
       " <matplotlib.lines.Line2D at 0x1785d04d240>,\n",
       " <matplotlib.lines.Line2D at 0x1785d04d390>,\n",
       " <matplotlib.lines.Line2D at 0x1785d04d4e0>,\n",
       " <matplotlib.lines.Line2D at 0x1785d04d630>,\n",
       " <matplotlib.lines.Line2D at 0x1785d04d780>,\n",
       " <matplotlib.lines.Line2D at 0x1785d04d8d0>,\n",
       " <matplotlib.lines.Line2D at 0x1785d04da20>,\n",
       " <matplotlib.lines.Line2D at 0x1785d04db70>,\n",
       " <matplotlib.lines.Line2D at 0x1785d04dcc0>,\n",
       " <matplotlib.lines.Line2D at 0x1785d04de10>,\n",
       " <matplotlib.lines.Line2D at 0x1785d04df60>,\n",
       " <matplotlib.lines.Line2D at 0x1785d0520f0>,\n",
       " <matplotlib.lines.Line2D at 0x1785d052240>,\n",
       " <matplotlib.lines.Line2D at 0x1785d052390>,\n",
       " <matplotlib.lines.Line2D at 0x1785d0524e0>,\n",
       " <matplotlib.lines.Line2D at 0x1785d052630>,\n",
       " <matplotlib.lines.Line2D at 0x1785d052780>,\n",
       " <matplotlib.lines.Line2D at 0x1785d0528d0>,\n",
       " <matplotlib.lines.Line2D at 0x1785d052a20>,\n",
       " <matplotlib.lines.Line2D at 0x1785d052b70>,\n",
       " <matplotlib.lines.Line2D at 0x1785d052cc0>,\n",
       " <matplotlib.lines.Line2D at 0x1785d052e10>,\n",
       " <matplotlib.lines.Line2D at 0x1785d052f60>,\n",
       " <matplotlib.lines.Line2D at 0x1785d0590f0>,\n",
       " <matplotlib.lines.Line2D at 0x1785d059240>,\n",
       " <matplotlib.lines.Line2D at 0x1785d059390>,\n",
       " <matplotlib.lines.Line2D at 0x1785d0594e0>,\n",
       " <matplotlib.lines.Line2D at 0x1785d059630>,\n",
       " <matplotlib.lines.Line2D at 0x1785d059780>,\n",
       " <matplotlib.lines.Line2D at 0x1785d0598d0>,\n",
       " <matplotlib.lines.Line2D at 0x1785d059a20>,\n",
       " <matplotlib.lines.Line2D at 0x1785d059b70>,\n",
       " <matplotlib.lines.Line2D at 0x1785d059cc0>,\n",
       " <matplotlib.lines.Line2D at 0x1785d059e10>,\n",
       " <matplotlib.lines.Line2D at 0x1785d059f60>,\n",
       " <matplotlib.lines.Line2D at 0x1785d05d0f0>,\n",
       " <matplotlib.lines.Line2D at 0x1785d05d240>,\n",
       " <matplotlib.lines.Line2D at 0x1785d05d390>,\n",
       " <matplotlib.lines.Line2D at 0x1785d05d4e0>,\n",
       " <matplotlib.lines.Line2D at 0x1785d05d630>,\n",
       " <matplotlib.lines.Line2D at 0x1785d05d780>,\n",
       " <matplotlib.lines.Line2D at 0x1785d05d8d0>,\n",
       " <matplotlib.lines.Line2D at 0x1785d05da20>,\n",
       " <matplotlib.lines.Line2D at 0x1785d05db70>,\n",
       " <matplotlib.lines.Line2D at 0x1785d05dcc0>,\n",
       " <matplotlib.lines.Line2D at 0x1785d05de10>,\n",
       " <matplotlib.lines.Line2D at 0x1785d05df60>,\n",
       " <matplotlib.lines.Line2D at 0x1785d0630f0>,\n",
       " <matplotlib.lines.Line2D at 0x1785d063240>,\n",
       " <matplotlib.lines.Line2D at 0x1785d063390>,\n",
       " <matplotlib.lines.Line2D at 0x1785d0634e0>,\n",
       " <matplotlib.lines.Line2D at 0x1785d063630>,\n",
       " <matplotlib.lines.Line2D at 0x1785d063780>,\n",
       " <matplotlib.lines.Line2D at 0x1785d0638d0>,\n",
       " <matplotlib.lines.Line2D at 0x1785d063a20>,\n",
       " <matplotlib.lines.Line2D at 0x1785d063b70>,\n",
       " <matplotlib.lines.Line2D at 0x1785d063cc0>,\n",
       " <matplotlib.lines.Line2D at 0x1785d063e10>,\n",
       " <matplotlib.lines.Line2D at 0x1785d063f60>,\n",
       " <matplotlib.lines.Line2D at 0x1785d0670f0>,\n",
       " <matplotlib.lines.Line2D at 0x1785d067240>,\n",
       " <matplotlib.lines.Line2D at 0x1785d067390>,\n",
       " <matplotlib.lines.Line2D at 0x1785d0674e0>,\n",
       " <matplotlib.lines.Line2D at 0x1785d067630>,\n",
       " <matplotlib.lines.Line2D at 0x1785d067780>,\n",
       " <matplotlib.lines.Line2D at 0x1785d0678d0>,\n",
       " <matplotlib.lines.Line2D at 0x1785d067a20>,\n",
       " <matplotlib.lines.Line2D at 0x1785d067b70>,\n",
       " <matplotlib.lines.Line2D at 0x1785d067cc0>,\n",
       " <matplotlib.lines.Line2D at 0x1785d067e10>,\n",
       " <matplotlib.lines.Line2D at 0x1785d067f60>,\n",
       " <matplotlib.lines.Line2D at 0x1785d06d0f0>,\n",
       " <matplotlib.lines.Line2D at 0x1785d06d240>]"
      ]
     },
     "execution_count": 86,
     "metadata": {},
     "output_type": "execute_result"
    },
    {
     "data": {
      "image/png": "[encoded data removed]",
      "text/plain": [
       "<Figure size 1440x720 with 1 Axes>"
      ]
     },
     "metadata": {
      "needs_background": "light"
     },
     "output_type": "display_data"
    }
   ],
   "source": [
    "plt.figure(figsize=(20,10))\n",
    "plt.plot(X_test, y_test, 'r^',)\n",
    "plt.plot(X_test, y_pred_2, 'b^')"
   ]
  },
  {
   "cell_type": "code",
   "execution_count": null,
   "metadata": {},
   "outputs": [],
   "source": []
  },
  {
   "cell_type": "code",
   "execution_count": null,
   "metadata": {},
   "outputs": [],
   "source": []
  },
  {
   "cell_type": "code",
   "execution_count": null,
   "metadata": {},
   "outputs": [],
   "source": []
  },
  {
   "cell_type": "code",
   "execution_count": null,
   "metadata": {},
   "outputs": [],
   "source": []
  },
  {
   "cell_type": "code",
   "execution_count": null,
   "metadata": {},
   "outputs": [],
   "source": []
  },
  {
   "cell_type": "markdown",
   "metadata": {},
   "source": [
    "## Sigmoid Neuron"
   ]
  },
  {
   "cell_type": "code",
   "execution_count": 87,
   "metadata": {},
   "outputs": [],
   "source": [
    "class SigmoidNeuron:\n",
    "    \n",
    "    def __init__(self):\n",
    "        self.w = None\n",
    "        self.b = None\n",
    "        \n",
    "    def perceptron(self, x):\n",
    "        return np.dot(x, self.w.T) + self.b\n",
    "    \n",
    "    def sigmoid(self,x):\n",
    "        return 1.0 / (1.0 + np.exp(-x))\n",
    "    \n",
    "    def grad_w(self, x, y):\n",
    "        y_pred = self.sigmoid(self.perceptron(x))\n",
    "        return (y_pred - y) * y_pred * (1- y_pred) *x\n",
    "    \n",
    "    def grad_b(self,x,y):\n",
    "        y_pred = self.sigmoid(self.perceptron(x))\n",
    "        return (y_pred - y) * y_pred * (1 - y_pred) \n",
    "    \n",
    "    def fit(self, X,Y, epochs =1, learning_rate = 1, initialise = True, display_loss = False):\n",
    "        if initialise:\n",
    "            self.w = np.random.rand(1,X.shape[1])\n",
    "            self.b = 0\n",
    "            \n",
    "        if display_loss:\n",
    "            loss = {}\n",
    "        \n",
    "        for i in tqdm_notebook(range(epochs), total = epochs, unit='epoch'):\n",
    "            dw = 0\n",
    "            db = 0\n",
    "            \n",
    "            for x, y in zip(X,Y):\n",
    "                dw += self.grad_w(x, y)\n",
    "                db += self.grad_b(x,y)\n",
    "                \n",
    "            self.w -= learning_rate * dw\n",
    "            self.b -= learning_rate * db\n",
    "        \n",
    "            if display_loss:\n",
    "                Y_pred = self.sigmoid(self.perceptron(X))\n",
    "                loss[i]  = mean_squared_error(Y_pred, Y)\n",
    "        if display_loss:\n",
    "            plt.plot(loss.values())\n",
    "            plt.xlabel('Epoche')\n",
    "            plt.ylabel('Mean Sq error')\n",
    "            plt.show()\n",
    "            \n",
    "    def predict(self,X):\n",
    "        Y_pred = []\n",
    "        for x in X:\n",
    "            y_pred = self.sigmoid(self.perceptron(x))\n",
    "            Y_pred.append(y_pred)\n",
    "        return np.array(Y_pred)\n",
    "    \n",
    "            "
   ]
  },
  {
   "cell_type": "code",
   "execution_count": 88,
   "metadata": {},
   "outputs": [],
   "source": [
    "import matplotlib.colors\n",
    "my_cmap = matplotlib.colors.LinearSegmentedColormap.from_list(\"\", [\"red\",\"yellow\",\"green\"])"
   ]
  },
  {
   "cell_type": "code",
   "execution_count": 89,
   "metadata": {},
   "outputs": [],
   "source": [
    "sigmoid = SigmoidNeuron()"
   ]
  },
  {
   "cell_type": "code",
   "execution_count": 90,
   "metadata": {},
   "outputs": [],
   "source": [
    "X = train_new_1.drop(['PhoneId','Rating'], axis=1)\n",
    "#X_bin = X.apply(pd.cut, bins=2, labels=[1,0])\n",
    "y = train_new_1['Rating'].values\n",
    "X_train, X_test, y_train, y_test = train_test_split(X, y, test_size=0.2, )"
   ]
  },
  {
   "cell_type": "code",
   "execution_count": 91,
   "metadata": {},
   "outputs": [],
   "source": [
    "scaler = StandardScaler()"
   ]
  },
  {
   "cell_type": "code",
   "execution_count": 92,
   "metadata": {},
   "outputs": [
    {
     "name": "stderr",
     "output_type": "stream",
     "text": [
      "C:\\Users\\shubh\\Anaconda3\\lib\\site-packages\\sklearn\\preprocessing\\data.py:625: DataConversionWarning: Data with input dtype uint8, int32, int64, float64 were all converted to float64 by StandardScaler.\n",
      "  return self.partial_fit(X, y)\n",
      "C:\\Users\\shubh\\Anaconda3\\lib\\site-packages\\sklearn\\base.py:462: DataConversionWarning: Data with input dtype uint8, int32, int64, float64 were all converted to float64 by StandardScaler.\n",
      "  return self.fit(X, **fit_params).transform(X)\n",
      "C:\\Users\\shubh\\Anaconda3\\lib\\site-packages\\ipykernel_launcher.py:2: DataConversionWarning: Data with input dtype uint8, int32, int64, float64 were all converted to float64 by StandardScaler.\n",
      "  \n"
     ]
    }
   ],
   "source": [
    "X_scaled_train = scaler.fit_transform(X_train)\n",
    "X_scaled_test = scaler.transform(X_test)"
   ]
  },
  {
   "cell_type": "code",
   "execution_count": 93,
   "metadata": {},
   "outputs": [],
   "source": [
    "minmax_scaler = MinMaxScaler()"
   ]
  },
  {
   "cell_type": "code",
   "execution_count": 94,
   "metadata": {},
   "outputs": [],
   "source": [
    "Y_scaled_train = minmax_scaler.fit_transform(y_train.reshape(-1, 1))"
   ]
  },
  {
   "cell_type": "code",
   "execution_count": 95,
   "metadata": {},
   "outputs": [
    {
     "data": {
      "application/vnd.jupyter.widget-view+json": {
       "model_id": "bae7668e69534e1f8ba155e4151c225f",
       "version_major": 2,
       "version_minor": 0
      },
      "text/plain": [
       "HBox(children=(IntProgress(value=0, max=2000), HTML(value='')))"
      ]
     },
     "metadata": {},
     "output_type": "display_data"
    },
    {
     "name": "stdout",
     "output_type": "stream",
     "text": [
      "\n"
     ]
    },
    {
     "data": {
      "image/png": "[encoded data removed]",
      "text/plain": [
       "<Figure size 432x288 with 1 Axes>"
      ]
     },
     "metadata": {
      "needs_background": "light"
     },
     "output_type": "display_data"
    }
   ],
   "source": [
    "sigmoid.fit(X_scaled_train, y_train, epochs=2000, learning_rate=0.15, display_loss=True)"
   ]
  },
  {
   "cell_type": "code",
   "execution_count": 96,
   "metadata": {},
   "outputs": [],
   "source": [
    "Y_pred_train = sigmoid.predict(X_scaled_train)\n",
    "Y_pred_test = sigmoid.predict(X_scaled_test)\n"
   ]
  },
  {
   "cell_type": "code",
   "execution_count": 97,
   "metadata": {},
   "outputs": [],
   "source": [
    "Y_scaled_test = minmax_scaler.transform(y_test.reshape(-1, 1))"
   ]
  },
  {
   "cell_type": "code",
   "execution_count": 98,
   "metadata": {},
   "outputs": [],
   "source": [
    "threshold = 4.2\n",
    "scaled_threshold = list(minmax_scaler.transform(np.array([threshold]).reshape(1, -1)))[0][0]"
   ]
  },
  {
   "cell_type": "code",
   "execution_count": 99,
   "metadata": {},
   "outputs": [
    {
     "data": {
      "text/plain": [
       "0.6800000000000002"
      ]
     },
     "execution_count": 99,
     "metadata": {},
     "output_type": "execute_result"
    }
   ],
   "source": [
    "scaled_threshold"
   ]
  },
  {
   "cell_type": "code",
   "execution_count": null,
   "metadata": {},
   "outputs": [],
   "source": []
  },
  {
   "cell_type": "code",
   "execution_count": 100,
   "metadata": {},
   "outputs": [],
   "source": [
    "Y_binarised_train = (Y_scaled_train > scaled_threshold).astype(\"int\").ravel()\n",
    "Y_binarised_test = (Y_scaled_test > scaled_threshold).astype(\"int\").ravel()\n",
    "Y_pred_binarised_train = (Y_pred_train > scaled_threshold).astype(\"int\").ravel()\n",
    "Y_pred_binarised_test = (Y_pred_test > scaled_threshold).astype(\"int\").ravel()"
   ]
  },
  {
   "cell_type": "code",
   "execution_count": 101,
   "metadata": {},
   "outputs": [],
   "source": [
    "accuracy_train = accuracy_score(Y_pred_binarised_train, Y_binarised_train)\n",
    "accuracy_test  = accuracy_score(Y_pred_binarised_test, Y_binarised_test)"
   ]
  },
  {
   "cell_type": "code",
   "execution_count": 102,
   "metadata": {},
   "outputs": [
    {
     "data": {
      "text/plain": [
       "0.4007352941176471"
      ]
     },
     "execution_count": 102,
     "metadata": {},
     "output_type": "execute_result"
    }
   ],
   "source": [
    "accuracy_train"
   ]
  },
  {
   "cell_type": "code",
   "execution_count": 103,
   "metadata": {},
   "outputs": [
    {
     "data": {
      "text/plain": [
       "0.34782608695652173"
      ]
     },
     "execution_count": 103,
     "metadata": {},
     "output_type": "execute_result"
    }
   ],
   "source": [
    "accuracy_test"
   ]
  },
  {
   "cell_type": "code",
   "execution_count": null,
   "metadata": {},
   "outputs": [],
   "source": []
  },
  {
   "cell_type": "code",
   "execution_count": null,
   "metadata": {},
   "outputs": [],
   "source": []
  },
  {
   "cell_type": "code",
   "execution_count": null,
   "metadata": {},
   "outputs": [],
   "source": []
  },
  {
   "cell_type": "code",
   "execution_count": null,
   "metadata": {},
   "outputs": [],
   "source": []
  },
  {
   "cell_type": "markdown",
   "metadata": {},
   "source": [
    "## Feed Forword Neuron"
   ]
  },
  {
   "cell_type": "code",
   "execution_count": null,
   "metadata": {},
   "outputs": [],
   "source": []
  },
  {
   "cell_type": "code",
   "execution_count": null,
   "metadata": {},
   "outputs": [],
   "source": []
  },
  {
   "cell_type": "code",
   "execution_count": null,
   "metadata": {},
   "outputs": [],
   "source": []
  },
  {
   "cell_type": "code",
   "execution_count": null,
   "metadata": {},
   "outputs": [],
   "source": []
  },
  {
   "cell_type": "code",
   "execution_count": null,
   "metadata": {},
   "outputs": [],
   "source": [
    "\n"
   ]
  },
  {
   "cell_type": "code",
   "execution_count": null,
   "metadata": {},
   "outputs": [],
   "source": [
    "\n"
   ]
  },
  {
   "cell_type": "code",
   "execution_count": null,
   "metadata": {},
   "outputs": [],
   "source": []
  }
 ],
 "metadata": {
  "kernelspec": {
   "display_name": "Python 3",
   "language": "python",
   "name": "python3"
  },
  "language_info": {
   "codemirror_mode": {
    "name": "ipython",
    "version": 3
   },
   "file_extension": ".py",
   "mimetype": "text/x-python",
   "name": "python",
   "nbconvert_exporter": "python",
   "pygments_lexer": "ipython3",
   "version": "3.7.2"
  }
 },
 "nbformat": 4,
 "nbformat_minor": 2
}
